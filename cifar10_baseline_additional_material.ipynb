{
  "cells": [
    {
      "cell_type": "markdown",
      "metadata": {
        "id": "view-in-github",
        "colab_type": "text"
      },
      "source": [
        "<a href=\"https://colab.research.google.com/github/potis/AISummit/blob/main/cifar10_baseline_additional_material.ipynb\" target=\"_parent\"><img src=\"https://colab.research.google.com/assets/colab-badge.svg\" alt=\"Open In Colab\"/></a>"
      ]
    },
    {
      "cell_type": "markdown",
      "source": [
        "# Pytorch OOD\n",
        "\n",
        "\n",
        "## https://pytorch-ood.readthedocs.io/\n"
      ],
      "metadata": {
        "id": "9NppPUHVKOax"
      }
    },
    {
      "cell_type": "markdown",
      "source": [
        "### Maximum Softmax Probability\n",
        "\n",
        "Implements the Maximum Softmax Probability (MSP) Thresholding baseline for OOD detection.\n",
        "Optionally, implements temperature scaling, which divides the logits by a constant temperature **T** before calculating the softmax.\n",
        "\n",
        "https://arxiv.org/abs/1610.02136\n",
        "\n",
        "### Max Logit Method\n",
        "\n",
        "Implements the Max Logit Method for OOD Detection as proposed in Scaling Out-of-Distribution Detection for Real-World Settings.\n",
        "\n",
        "\n",
        "https://arxiv.org/abs/1911.11132\n",
        "\n",
        "\n",
        "\n",
        "### OpenMax\n",
        "Implementation of the OpenMax Layer as proposed in the paper Towards Open Set Deep Networks.\n",
        "\n",
        "The methods determines a center for each class in the logits space of a model, and then creates a statistical model of the distances of correct classified inputs. It uses extreme value theory to detect outliers by fitting a weibull function to the tail of the distance distribution.\n",
        "\n",
        "We use the activation of the unknown class as outlier score.\n",
        "\n",
        "https://arxiv.org/abs/1511.06233\n",
        "\n",
        "### ODIN Preprocessing\n",
        "\n",
        "Implements ODIN from the paper Enhancing The Reliability of Out-of-distribution Image Detection in Neural Networks.\n",
        "\n",
        "ODIN is a preprocessing method for inputs that aims to increase the discriminability of the softmax outputs for IN and OOD data.\n",
        "\n",
        "\n",
        "https://arxiv.org/abs/1706.02690\n",
        "\n",
        "\n",
        "### EnergyBased\n",
        "Implements the Energy Score of Energy-based Out-of-distribution Detection.\n",
        "\n",
        "This methods calculates the negative energy for a vector of logits. This value can be used as outlier score.\n",
        "\n",
        "\n",
        "https://proceedings.neurips.cc/paper/2020/file/f5496252609c43eb8a3d147ab9b9c006-Paper.pdf\n",
        "\n",
        "\n",
        "### Mahalanobis Method\n",
        "\n",
        "Implements the Mahalanobis Method from the paper A Simple Unified Framework for Detecting Out-of-Distribution Samples and Adversarial Attacks.\n",
        "\n",
        "\n",
        "### Monte Carlo Dropout\n",
        "\n",
        "From the paper Dropout as a Bayesian Approximation: Representing Model Uncertainty in Deep Learning. Forward-propagates the input through the model several times with activated dropout and averages the results.\n",
        "\n",
        "\n",
        "http://proceedings.mlr.press/v48/gal16.pdf\n",
        "\n",
        "\n",
        "### Virtual Logit Matching\n",
        "\n",
        "Implements Virtual Logit Matching (ViM) from the paper ViM: Out-Of-Distribution with Virtual-logit Matching.\n",
        "\n",
        "https://arxiv.org/abs/2203.10807\n",
        "\n",
        "\n",
        "### KL-Matching\n",
        "Implements KL-Matching from the paper Scaling Out-of-Distribution Detection for Real-World Settings.\n",
        "\n",
        "https://arxiv.org/abs/1911.11132\n",
        "\n",
        "### Entropy-based\n",
        "This methods calculates the entropy based on the logits of a classifier. Higher entropy means more uniformly distributed posteriors, indicating larger uncertainty\n",
        "\n"
      ],
      "metadata": {
        "id": "EvECaa1DHx1b"
      }
    },
    {
      "cell_type": "code",
      "source": [
        "!pip install pytorch_ood"
      ],
      "metadata": {
        "colab": {
          "base_uri": "https://localhost:8080/"
        },
        "id": "jWYhGfIhYYJP",
        "outputId": "434c9919-6402-4aa3-ceb9-8c7987b8234c"
      },
      "execution_count": 3,
      "outputs": [
        {
          "output_type": "stream",
          "name": "stdout",
          "text": [
            "Looking in indexes: https://pypi.org/simple, https://us-python.pkg.dev/colab-wheels/public/simple/\n",
            "Collecting pytorch_ood\n",
            "  Downloading pytorch_ood-0.1.2-py3-none-any.whl (101 kB)\n",
            "\u001b[2K     \u001b[90m━━━━━━━━━━━━━━━━━━━━━━━━━━━━━━━━━━━━━━━\u001b[0m \u001b[32m101.4/101.4 kB\u001b[0m \u001b[31m4.1 MB/s\u001b[0m eta \u001b[36m0:00:00\u001b[0m\n",
            "\u001b[?25hRequirement already satisfied: torch>=1.7.0 in /usr/local/lib/python3.10/dist-packages (from pytorch_ood) (2.0.1+cu118)\n",
            "Requirement already satisfied: torchvision>=0.12.0 in /usr/local/lib/python3.10/dist-packages (from pytorch_ood) (0.15.2+cu118)\n",
            "Collecting torchmetrics==0.10.2 (from pytorch_ood)\n",
            "  Downloading torchmetrics-0.10.2-py3-none-any.whl (529 kB)\n",
            "\u001b[2K     \u001b[90m━━━━━━━━━━━━━━━━━━━━━━━━━━━━━━━━━━━━━━\u001b[0m \u001b[32m529.7/529.7 kB\u001b[0m \u001b[31m15.8 MB/s\u001b[0m eta \u001b[36m0:00:00\u001b[0m\n",
            "\u001b[?25hRequirement already satisfied: scipy>=1.7.0 in /usr/local/lib/python3.10/dist-packages (from pytorch_ood) (1.10.1)\n",
            "Requirement already satisfied: numpy>=1.17.2 in /usr/local/lib/python3.10/dist-packages (from torchmetrics==0.10.2->pytorch_ood) (1.22.4)\n",
            "Requirement already satisfied: packaging in /usr/local/lib/python3.10/dist-packages (from torchmetrics==0.10.2->pytorch_ood) (23.1)\n",
            "Requirement already satisfied: filelock in /usr/local/lib/python3.10/dist-packages (from torch>=1.7.0->pytorch_ood) (3.12.0)\n",
            "Requirement already satisfied: typing-extensions in /usr/local/lib/python3.10/dist-packages (from torch>=1.7.0->pytorch_ood) (4.5.0)\n",
            "Requirement already satisfied: sympy in /usr/local/lib/python3.10/dist-packages (from torch>=1.7.0->pytorch_ood) (1.11.1)\n",
            "Requirement already satisfied: networkx in /usr/local/lib/python3.10/dist-packages (from torch>=1.7.0->pytorch_ood) (3.1)\n",
            "Requirement already satisfied: jinja2 in /usr/local/lib/python3.10/dist-packages (from torch>=1.7.0->pytorch_ood) (3.1.2)\n",
            "Requirement already satisfied: triton==2.0.0 in /usr/local/lib/python3.10/dist-packages (from torch>=1.7.0->pytorch_ood) (2.0.0)\n",
            "Requirement already satisfied: cmake in /usr/local/lib/python3.10/dist-packages (from triton==2.0.0->torch>=1.7.0->pytorch_ood) (3.25.2)\n",
            "Requirement already satisfied: lit in /usr/local/lib/python3.10/dist-packages (from triton==2.0.0->torch>=1.7.0->pytorch_ood) (16.0.5)\n",
            "Requirement already satisfied: requests in /usr/local/lib/python3.10/dist-packages (from torchvision>=0.12.0->pytorch_ood) (2.27.1)\n",
            "Requirement already satisfied: pillow!=8.3.*,>=5.3.0 in /usr/local/lib/python3.10/dist-packages (from torchvision>=0.12.0->pytorch_ood) (8.4.0)\n",
            "Requirement already satisfied: MarkupSafe>=2.0 in /usr/local/lib/python3.10/dist-packages (from jinja2->torch>=1.7.0->pytorch_ood) (2.1.2)\n",
            "Requirement already satisfied: urllib3<1.27,>=1.21.1 in /usr/local/lib/python3.10/dist-packages (from requests->torchvision>=0.12.0->pytorch_ood) (1.26.15)\n",
            "Requirement already satisfied: certifi>=2017.4.17 in /usr/local/lib/python3.10/dist-packages (from requests->torchvision>=0.12.0->pytorch_ood) (2022.12.7)\n",
            "Requirement already satisfied: charset-normalizer~=2.0.0 in /usr/local/lib/python3.10/dist-packages (from requests->torchvision>=0.12.0->pytorch_ood) (2.0.12)\n",
            "Requirement already satisfied: idna<4,>=2.5 in /usr/local/lib/python3.10/dist-packages (from requests->torchvision>=0.12.0->pytorch_ood) (3.4)\n",
            "Requirement already satisfied: mpmath>=0.19 in /usr/local/lib/python3.10/dist-packages (from sympy->torch>=1.7.0->pytorch_ood) (1.3.0)\n",
            "Installing collected packages: torchmetrics, pytorch_ood\n",
            "Successfully installed pytorch_ood-0.1.2 torchmetrics-0.10.2\n"
          ]
        }
      ]
    },
    {
      "cell_type": "markdown",
      "metadata": {
        "id": "2S8Lh0JXYPIh"
      },
      "source": []
    },
    {
      "cell_type": "code",
      "execution_count": 4,
      "metadata": {
        "colab": {
          "base_uri": "https://localhost:8080/"
        },
        "id": "YzdisihIYPIk",
        "outputId": "064a223a-e827-425d-89fc-a09b696fb847"
      },
      "outputs": [
        {
          "output_type": "execute_result",
          "data": {
            "text/plain": [
              "<torch._C.Generator at 0x7f3524196c90>"
            ]
          },
          "metadata": {},
          "execution_count": 4
        }
      ],
      "source": [
        "import pandas as pd  # additional dependency, used here for convenience\n",
        "import torch\n",
        "import torchvision.transforms as tvt\n",
        "from torch.utils.data import DataLoader\n",
        "from torchvision.datasets import CIFAR10\n",
        "\n",
        "from pytorch_ood.dataset.img import (\n",
        "    LSUNCrop,\n",
        "    LSUNResize,\n",
        "    Textures,\n",
        "    TinyImageNetCrop,\n",
        "    TinyImageNetResize,\n",
        ")\n",
        "from pytorch_ood.detector import (\n",
        "    ODIN,\n",
        "    EnergyBased,\n",
        "    Entropy,\n",
        "    KLMatching,\n",
        "    Mahalanobis,\n",
        "    MaxLogit,\n",
        "    MaxSoftmax,\n",
        "    ViM,\n",
        ")\n",
        "from pytorch_ood.model import WideResNet\n",
        "from pytorch_ood.utils import OODMetrics, ToRGB, ToUnknown\n",
        "\n",
        "device = \"cuda:0\"\n",
        "\n",
        "torch.manual_seed(123)"
      ]
    },
    {
      "cell_type": "markdown",
      "metadata": {
        "id": "BOVInFmdYPIm"
      },
      "source": [
        "Setup preprocessing\n",
        "\n"
      ]
    },
    {
      "cell_type": "code",
      "execution_count": 5,
      "metadata": {
        "id": "tWE5SswjYPIm"
      },
      "outputs": [],
      "source": [
        "mean = [x / 255 for x in [125.3, 123.0, 113.9]]\n",
        "std = [x / 255 for x in [63.0, 62.1, 66.7]]\n",
        "trans = tvt.Compose(\n",
        "    [tvt.Resize(size=(32, 32)), ToRGB(), tvt.ToTensor(), tvt.Normalize(std=std, mean=mean)]\n",
        ")"
      ]
    },
    {
      "cell_type": "markdown",
      "metadata": {
        "id": "0OSKrBd7YPIm"
      },
      "source": [
        "Setup datasets\n",
        "\n"
      ]
    },
    {
      "cell_type": "code",
      "execution_count": 6,
      "metadata": {
        "colab": {
          "base_uri": "https://localhost:8080/"
        },
        "id": "AGoCjx9QYPIn",
        "outputId": "f1d6ef60-d828-45de-879f-4b65f5df16d5"
      },
      "outputs": [
        {
          "output_type": "stream",
          "name": "stdout",
          "text": [
            "Downloading https://www.cs.toronto.edu/~kriz/cifar-10-python.tar.gz to data/cifar-10-python.tar.gz\n"
          ]
        },
        {
          "output_type": "stream",
          "name": "stderr",
          "text": [
            "100%|██████████| 170498071/170498071 [00:02<00:00, 74446703.62it/s]\n"
          ]
        },
        {
          "output_type": "stream",
          "name": "stdout",
          "text": [
            "Extracting data/cifar-10-python.tar.gz to data\n",
            "Downloading https://thor.robots.ox.ac.uk/datasets/dtd/dtd-r1.0.1.tar.gz to data/textures-r1_0_1.tar.gz\n"
          ]
        },
        {
          "output_type": "stream",
          "name": "stderr",
          "text": [
            "100%|██████████| 625239812/625239812 [00:19<00:00, 31986946.13it/s]\n"
          ]
        },
        {
          "output_type": "stream",
          "name": "stdout",
          "text": [
            "Extracting data/textures-r1_0_1.tar.gz to data\n",
            "Downloading https://ucd372c1202449535828078fd857.dl.dropboxusercontent.com/cd/0/inline2/B-a_RKz6J2yk8MDXXkX15Wd6tTsCVNttlA1_xc64Xz_11bFhWcqdLDryFVH7Zl3wW_dsfYGWAdF8gNAUiRD9lZ14UrJ8B4BwTxQ8-EOsTXr5Wpeq5PRoNuoMVC8wAG2NDz0AfWLFdb-S76REiGlyTAPqs_Lf-Q5EhyP67RKlzQQr6v9O-76Do3k1RXH8EVQRe8s6or0Qv1Gme5y5VDs6wJdgmTggvvub4yT1IovPK2E5aV2o-ylfvN88ix-I0DBoilox9Ln2i-wQ_A3lcYoSTjkugO72ySuVgXz7Jga38cHd-qPaPW96Vq-VEha4iK7a91drePHEqNvQTdtNI_xf7W0KUertp4AG0sXMCsco9MSl2a5b61uNCHLpLJrPrx8yWA1Z7htRce9skhMktfctv6J5_hil64CKkEPkN2Xm8luXxg/file to data/Imagenet.tar.gz\n"
          ]
        },
        {
          "output_type": "stream",
          "name": "stderr",
          "text": [
            "100%|██████████| 26501958/26501958 [00:00<00:00, 104334619.04it/s]\n"
          ]
        },
        {
          "output_type": "stream",
          "name": "stdout",
          "text": [
            "Extracting data/Imagenet.tar.gz to data\n",
            "Downloading https://uc438216df000adf545ccb699330.dl.dropboxusercontent.com/cd/0/inline2/B-Yez3AS7xtKpQzqCN0HVFbZh8aL1Gs4UAMcJbheySyna_H4YXDSDqjut7DiPhrgzDYRhxPTxk2RfR9mBtQJd0o3SeMcXwjE-zZ9C1RQVrI1XDlrVmSVZnZNIKgBYfx3z_4z1zf11CaBpHvNo0SCZQByapFtNIwsOVA5gX7Kh5g4ckhPAP_VWC8YuYrxmpHpMWuVPyXFtlzZICaSsI1opvWnaGBjDOfzp0TGL5PKrnhV-kaNWsUOJGwY7QF2QV304qrVeranIubOVkDTFN8Zk_DCN3cBUxf2K_VrwQSN9SelTphxBmL1gQXT2x9SEiOSY8YiBBGttCnRS88rKVFAnk7A-vADXASLEaWrYbAnw-8JWYt0J2thsNBOCGXBNd0HxhovH4_SxaOXCV1bhaLHPGQ51EsK5IexJdiLGs253yLDWQ/file to data/Imagenet_resize.tar.gz\n"
          ]
        },
        {
          "output_type": "stream",
          "name": "stderr",
          "text": [
            "100%|██████████| 4550980/4550980 [00:00<00:00, 27111485.22it/s]\n"
          ]
        },
        {
          "output_type": "stream",
          "name": "stdout",
          "text": [
            "Extracting data/Imagenet_resize.tar.gz to data\n",
            "Downloading https://ucd1da99366c78a6e0f2bc09ab4b.dl.dropboxusercontent.com/cd/0/inline2/B-ZMUEXM0RtzX4x1rht54ukpydcQJBSxp3P1cjnntXyyMuqUk093O2CQrYFtc5GzJghuiI5SlzsQh6Eo3aCAMBAHmttyPPgxPMUa39lddaiPY6Z5eTummivUMXmVVQs5MRIPqOkwOBgqognINVoPI1OUJAeEBw6pYgeieVHAkh0FG5ga4WDq9NJpSHXz1fWRo7bLfQFDB8UwF9KDe8gNW3J0sFHdq0QxpD-JsaO11mM_ZbhPfuaCzZ_4StgdrQA2PH-XdZUFHD2AzNyLNn7qpAOWBlc5o-2rrKoB5zpeAG10CVz-1xOe8Nc2yYjya71-5sBIjHH12VDnMdvhFJzbejdRhOCq45itl0y7hkcrnP7Oa5caAX8kw1rtOFFFPg2UxjOdaVY3buJQ5Krf1bZFx2gWw5nfcaJ0ld8e2sx06-nKFg/file to data/LSUN.tar.gz\n"
          ]
        },
        {
          "output_type": "stream",
          "name": "stderr",
          "text": [
            "100%|██████████| 17309383/17309383 [00:00<00:00, 22960213.29it/s]\n"
          ]
        },
        {
          "output_type": "stream",
          "name": "stdout",
          "text": [
            "Extracting data/LSUN.tar.gz to data\n",
            "Downloading https://uc60e19bb941cfb2018bc15b0f49.dl.dropboxusercontent.com/cd/0/inline2/B-YPV-8oiRHF3MEEu-pvmhyqHgduFbxUuwA90MX8scUrgefRVl3g9_5o6nkf0C7MhLrd1GZqFkQ88opy-OJFEaVuIyAa_hGmpM7-uccVPL7HZDl55fExOf2HXhXRkdRmKCq5nPHNY2Q6YPxcvHaTFsmIlEqsO0JzFVzL0Dz2tCDacrkYQ17P3Qg7R-DQVkZ0XBmV2O25UT_HgxLuX-in64jNEfGnNjSgJt0Hrkfb66fux1vvZ1nQ0h5d9EMuwsKqS7r1PMg6QgEI_yflQVqLk1Kb3om6Zx8tV4XGe1Ip0X2Ai7_XdE-Ip4XNNRlckDTvPrEghWOLoCOEQRDbWpVLk4TUoRXEzJ2BB-1aJV00JcY49W9hZ7v239Fm5Izh_AiVdM0zdSmRl1Z22GaD130PqfEjDXm6gFUBv6lcX3QADgezaQ/file to data/LSUN_resize.tar.gz\n"
          ]
        },
        {
          "output_type": "stream",
          "name": "stderr",
          "text": [
            "100%|██████████| 4688973/4688973 [00:00<00:00, 28546224.13it/s]\n"
          ]
        },
        {
          "output_type": "stream",
          "name": "stdout",
          "text": [
            "Extracting data/LSUN_resize.tar.gz to data\n"
          ]
        }
      ],
      "source": [
        "dataset_in_test = CIFAR10(root=\"data\", train=False, transform=trans, download=True)\n",
        "\n",
        "# create all OOD datasets\n",
        "ood_datasets = [Textures, LSUNCrop]\n",
        "datasets = {}\n",
        "for ood_dataset in ood_datasets:\n",
        "    dataset_out_test = ood_dataset(\n",
        "        root=\"data\", transform=trans, target_transform=ToUnknown(), download=True\n",
        "    )\n",
        "    test_loader = DataLoader(dataset_in_test + dataset_out_test, batch_size=256)\n",
        "    datasets[ood_dataset.__name__] = test_loader"
      ]
    },
    {
      "cell_type": "markdown",
      "metadata": {
        "id": "5Uh2mF29YPIn"
      },
      "source": [
        "**Stage 1**: Create DNN with pre-trained weights from the Hendrycks baseline paper\n",
        "\n"
      ]
    },
    {
      "cell_type": "code",
      "execution_count": 7,
      "metadata": {
        "colab": {
          "base_uri": "https://localhost:8080/"
        },
        "id": "bqqDAX-GYPIn",
        "outputId": "4110497d-f550-4a04-cc82-c4a82aefcac7"
      },
      "outputs": [
        {
          "output_type": "stream",
          "name": "stdout",
          "text": [
            "STAGE 1: Creating a Model\n"
          ]
        },
        {
          "output_type": "stream",
          "name": "stderr",
          "text": [
            "Downloading: \"https://github.com/wetliu/energy_ood/raw/master/CIFAR/snapshots/pretrained/cifar10_wrn_pretrained_epoch_99.pt\" to /root/.cache/torch/hub/checkpoints/wrn-cifar10-pt.pt\n",
            "100%|██████████| 8.62M/8.62M [00:00<00:00, 63.3MB/s]\n"
          ]
        }
      ],
      "source": [
        "print(\"STAGE 1: Creating a Model\")\n",
        "model = WideResNet(num_classes=10, pretrained=\"cifar10-pt\").eval().to(device)"
      ]
    },
    {
      "cell_type": "markdown",
      "metadata": {
        "id": "ZGs1ObXPYPIo"
      },
      "source": [
        "**Stage 2**: Create OOD detector\n",
        "\n"
      ]
    },
    {
      "cell_type": "code",
      "execution_count": 8,
      "metadata": {
        "colab": {
          "base_uri": "https://localhost:8080/"
        },
        "id": "xE06K9-yYPIo",
        "outputId": "59e5a769-d96b-48d8-db33-462aa57850fa"
      },
      "outputs": [
        {
          "output_type": "stream",
          "name": "stdout",
          "text": [
            "STAGE 2: Creating OOD Detectors\n",
            "> Fitting 8 detectors\n",
            "--> Fitting Entropy\n",
            "--> Fitting ViM\n",
            "--> Fitting Mahalanobis\n",
            "--> Fitting KLMatching\n",
            "--> Fitting MaxSoftmax\n",
            "--> Fitting EnergyBased\n",
            "--> Fitting MaxLogit\n",
            "--> Fitting ODIN\n"
          ]
        }
      ],
      "source": [
        "print(\"STAGE 2: Creating OOD Detectors\")\n",
        "detectors = {}\n",
        "detectors[\"Entropy\"] = Entropy(model)\n",
        "detectors[\"ViM\"] = ViM(model.features, d=64, w=model.fc.weight, b=model.fc.bias)\n",
        "detectors[\"Mahalanobis\"] = Mahalanobis(model.features, norm_std=std, eps=0.002)\n",
        "detectors[\"KLMatching\"] = KLMatching(model)\n",
        "detectors[\"MaxSoftmax\"] = MaxSoftmax(model)\n",
        "detectors[\"EnergyBased\"] = EnergyBased(model)\n",
        "detectors[\"MaxLogit\"] = MaxLogit(model)\n",
        "detectors[\"ODIN\"] = ODIN(model, norm_std=std, eps=0.002)\n",
        "\n",
        "# fit detectors to training data (some require this, some do not)\n",
        "print(f\"> Fitting {len(detectors)} detectors\")\n",
        "loader_in_train = DataLoader(CIFAR10(root=\"data\", train=True, transform=trans), batch_size=256)\n",
        "for name, detector in detectors.items():\n",
        "    print(f\"--> Fitting {name}\")\n",
        "    detector.fit(loader_in_train, device=device)"
      ]
    },
    {
      "cell_type": "markdown",
      "metadata": {
        "id": "bsqetwyIYPIp"
      },
      "source": [
        "**Stage 3**: Evaluate Detectors\n",
        "\n"
      ]
    },
    {
      "cell_type": "code",
      "execution_count": 9,
      "metadata": {
        "colab": {
          "base_uri": "https://localhost:8080/"
        },
        "id": "C-KJuE82YPIp",
        "outputId": "c77d6373-f029-44b8-c872-97cfdc1fc556"
      },
      "outputs": [
        {
          "output_type": "stream",
          "name": "stdout",
          "text": [
            "STAGE 3: Evaluating 8 detectors on 5 datasets.\n",
            "> Evaluating Entropy\n",
            "--> Textures\n",
            "--> TinyImageNetCrop\n",
            "--> TinyImageNetResize\n",
            "--> LSUNCrop\n",
            "--> LSUNResize\n",
            "> Evaluating ViM\n",
            "--> Textures\n",
            "--> TinyImageNetCrop\n",
            "--> TinyImageNetResize\n",
            "--> LSUNCrop\n",
            "--> LSUNResize\n",
            "> Evaluating Mahalanobis\n",
            "--> Textures\n",
            "--> TinyImageNetCrop\n",
            "--> TinyImageNetResize\n",
            "--> LSUNCrop\n",
            "--> LSUNResize\n",
            "> Evaluating KLMatching\n",
            "--> Textures\n",
            "--> TinyImageNetCrop\n",
            "--> TinyImageNetResize\n",
            "--> LSUNCrop\n",
            "--> LSUNResize\n",
            "> Evaluating MaxSoftmax\n",
            "--> Textures\n",
            "--> TinyImageNetCrop\n",
            "--> TinyImageNetResize\n",
            "--> LSUNCrop\n",
            "--> LSUNResize\n",
            "> Evaluating EnergyBased\n",
            "--> Textures\n",
            "--> TinyImageNetCrop\n",
            "--> TinyImageNetResize\n",
            "--> LSUNCrop\n",
            "--> LSUNResize\n",
            "> Evaluating MaxLogit\n",
            "--> Textures\n",
            "--> TinyImageNetCrop\n",
            "--> TinyImageNetResize\n",
            "--> LSUNCrop\n",
            "--> LSUNResize\n",
            "> Evaluating ODIN\n",
            "--> Textures\n",
            "--> TinyImageNetCrop\n",
            "--> TinyImageNetResize\n",
            "--> LSUNCrop\n",
            "--> LSUNResize\n",
            "Detector,AUROC,AUPR-IN,AUPR-OUT,FPR95TPR\n",
            "KLMatching,88.73,86.95,85.10,58.73\n",
            "MaxSoftmax,91.85,88.55,93.57,28.43\n",
            "Entropy,92.48,90.16,93.87,28.29\n",
            "MaxLogit,93.06,91.44,93.74,31.18\n",
            "EnergyBased,93.10,91.51,93.78,31.05\n",
            "ODIN,93.20,92.12,93.94,31.85\n",
            "ViM,94.49,93.41,95.34,23.49\n",
            "Mahalanobis,94.87,93.69,95.79,21.06\n",
            "\n"
          ]
        },
        {
          "output_type": "stream",
          "name": "stderr",
          "text": [
            "<ipython-input-9-875d67aec215>:19: FutureWarning: The default value of numeric_only in DataFrameGroupBy.mean is deprecated. In a future version, numeric_only will default to False. Either specify numeric_only or select only columns which should be valid for the function.\n",
            "  mean_scores = df.groupby(\"Detector\").mean() * 100\n"
          ]
        }
      ],
      "source": [
        "print(f\"STAGE 3: Evaluating {len(detectors)} detectors on {len(datasets)} datasets.\")\n",
        "results = []\n",
        "\n",
        "with torch.no_grad():\n",
        "    for detector_name, detector in detectors.items():\n",
        "        print(f\"> Evaluating {detector_name}\")\n",
        "        for dataset_name, loader in datasets.items():\n",
        "            print(f\"--> {dataset_name}\")\n",
        "            metrics = OODMetrics()\n",
        "            for x, y in loader:\n",
        "                metrics.update(detector(x.to(device)), y.to(device))\n",
        "\n",
        "            r = {\"Detector\": detector_name, \"Dataset\": dataset_name}\n",
        "            r.update(metrics.compute())\n",
        "            results.append(r)\n",
        "\n",
        "# calculate mean scores over all datasets, use percent\n",
        "df = pd.DataFrame(results)\n",
        "mean_scores = df.groupby(\"Detector\").mean() * 100\n",
        "print(mean_scores.sort_values(\"AUROC\").to_csv(float_format=\"%.2f\"))"
      ]
    },
    {
      "cell_type": "code",
      "source": [
        "print(f\"STAGE 3: Evaluating {len(detectors)} detectors on {len(datasets)} datasets.\")\n",
        "results = []\n",
        "\n",
        "with torch.no_grad():\n",
        "    for detector_name, detector in detectors.items():\n",
        "        print(f\"> Evaluating {detector_name}\")\n",
        "        for dataset_name, loader in datasets.items():\n",
        "            print(f\"--> {dataset_name}\")\n",
        "            metrics = OODMetrics()\n",
        "            x,y=next(iter(loader))\n",
        "            print(dataset_name, dataset_name)\n",
        "            prediction=detector(x[0:1].to(device))\n",
        "            print(prediction)\n",
        "\n",
        "#             r = {\"Detector\": detector_name, \"Dataset\": dataset_name}\n",
        "#             r.update(metrics.compute())\n",
        "#             results.append(r)\n",
        "\n",
        "# # calculate mean scores over all datasets, use percent\n",
        "# df = pd.DataFrame(results)\n",
        "# mean_scores = df.groupby(\"Detector\").mean() * 100\n",
        "# print(mean_scores.sort_values(\"AUROC\").to_csv(float_format=\"%.2f\"))"
      ],
      "metadata": {
        "colab": {
          "base_uri": "https://localhost:8080/"
        },
        "id": "5dc5Z1M7Y76y",
        "outputId": "46dd8929-a800-4619-c7e8-e25661d39db1"
      },
      "execution_count": 18,
      "outputs": [
        {
          "output_type": "stream",
          "name": "stdout",
          "text": [
            "STAGE 3: Evaluating 8 detectors on 5 datasets.\n",
            "> Evaluating Entropy\n",
            "--> Textures\n",
            "Textures Textures\n",
            "tensor([3.8212e-05], device='cuda:0')\n",
            "--> TinyImageNetCrop\n",
            "TinyImageNetCrop TinyImageNetCrop\n",
            "tensor([3.8212e-05], device='cuda:0')\n",
            "--> TinyImageNetResize\n",
            "TinyImageNetResize TinyImageNetResize\n",
            "tensor([3.8212e-05], device='cuda:0')\n",
            "--> LSUNCrop\n",
            "LSUNCrop LSUNCrop\n",
            "tensor([3.8212e-05], device='cuda:0')\n",
            "--> LSUNResize\n",
            "LSUNResize LSUNResize\n",
            "tensor([3.8212e-05], device='cuda:0')\n",
            "> Evaluating ViM\n",
            "--> Textures\n",
            "Textures Textures\n",
            "tensor([-4.0757])\n",
            "--> TinyImageNetCrop\n",
            "TinyImageNetCrop TinyImageNetCrop\n",
            "tensor([-4.0757])\n",
            "--> TinyImageNetResize\n",
            "TinyImageNetResize TinyImageNetResize\n",
            "tensor([-4.0757])\n",
            "--> LSUNCrop\n",
            "LSUNCrop LSUNCrop\n",
            "tensor([-4.0757])\n",
            "--> LSUNResize\n",
            "LSUNResize LSUNResize\n",
            "tensor([-4.0757])\n",
            "> Evaluating Mahalanobis\n",
            "--> Textures\n",
            "Textures Textures\n",
            "tensor([0.0012], device='cuda:0')\n",
            "--> TinyImageNetCrop\n",
            "TinyImageNetCrop TinyImageNetCrop\n",
            "tensor([0.0012], device='cuda:0')\n",
            "--> TinyImageNetResize\n",
            "TinyImageNetResize TinyImageNetResize\n",
            "tensor([0.0012], device='cuda:0')\n",
            "--> LSUNCrop\n",
            "LSUNCrop LSUNCrop\n",
            "tensor([0.0012], device='cuda:0')\n",
            "--> LSUNResize\n",
            "LSUNResize LSUNResize\n",
            "tensor([0.0012], device='cuda:0')\n",
            "> Evaluating KLMatching\n",
            "--> Textures\n",
            "Textures Textures\n",
            "tensor([0.0062], device='cuda:0')\n",
            "--> TinyImageNetCrop\n",
            "TinyImageNetCrop TinyImageNetCrop\n",
            "tensor([0.0062], device='cuda:0')\n",
            "--> TinyImageNetResize\n",
            "TinyImageNetResize TinyImageNetResize\n",
            "tensor([0.0062], device='cuda:0')\n",
            "--> LSUNCrop\n",
            "LSUNCrop LSUNCrop\n",
            "tensor([0.0062], device='cuda:0')\n",
            "--> LSUNResize\n",
            "LSUNResize LSUNResize\n",
            "tensor([0.0062], device='cuda:0')\n",
            "> Evaluating MaxSoftmax\n",
            "--> Textures\n",
            "Textures Textures\n",
            "tensor([-1.0000], device='cuda:0')\n",
            "--> TinyImageNetCrop\n",
            "TinyImageNetCrop TinyImageNetCrop\n",
            "tensor([-1.0000], device='cuda:0')\n",
            "--> TinyImageNetResize\n",
            "TinyImageNetResize TinyImageNetResize\n",
            "tensor([-1.0000], device='cuda:0')\n",
            "--> LSUNCrop\n",
            "LSUNCrop LSUNCrop\n",
            "tensor([-1.0000], device='cuda:0')\n",
            "--> LSUNResize\n",
            "LSUNResize LSUNResize\n",
            "tensor([-1.0000], device='cuda:0')\n",
            "> Evaluating EnergyBased\n",
            "--> Textures\n",
            "Textures Textures\n",
            "tensor([-14.4079], device='cuda:0')\n",
            "--> TinyImageNetCrop\n",
            "TinyImageNetCrop TinyImageNetCrop\n",
            "tensor([-14.4079], device='cuda:0')\n",
            "--> TinyImageNetResize\n",
            "TinyImageNetResize TinyImageNetResize\n",
            "tensor([-14.4079], device='cuda:0')\n",
            "--> LSUNCrop\n",
            "LSUNCrop LSUNCrop\n",
            "tensor([-14.4079], device='cuda:0')\n",
            "--> LSUNResize\n",
            "LSUNResize LSUNResize\n",
            "tensor([-14.4079], device='cuda:0')\n",
            "> Evaluating MaxLogit\n",
            "--> Textures\n",
            "Textures Textures\n",
            "tensor([-14.4079], device='cuda:0')\n",
            "--> TinyImageNetCrop\n",
            "TinyImageNetCrop TinyImageNetCrop\n",
            "tensor([-14.4079], device='cuda:0')\n",
            "--> TinyImageNetResize\n",
            "TinyImageNetResize TinyImageNetResize\n",
            "tensor([-14.4079], device='cuda:0')\n",
            "--> LSUNCrop\n",
            "LSUNCrop LSUNCrop\n",
            "tensor([-14.4079], device='cuda:0')\n",
            "--> LSUNResize\n",
            "LSUNResize LSUNResize\n",
            "tensor([-14.4079], device='cuda:0')\n",
            "> Evaluating ODIN\n",
            "--> Textures\n",
            "Textures Textures\n",
            "tensor([-1.0000], device='cuda:0')\n",
            "--> TinyImageNetCrop\n",
            "TinyImageNetCrop TinyImageNetCrop\n",
            "tensor([-1.0000], device='cuda:0')\n",
            "--> TinyImageNetResize\n",
            "TinyImageNetResize TinyImageNetResize\n",
            "tensor([-1.0000], device='cuda:0')\n",
            "--> LSUNCrop\n",
            "LSUNCrop LSUNCrop\n",
            "tensor([-1.0000], device='cuda:0')\n",
            "--> LSUNResize\n",
            "LSUNResize LSUNResize\n",
            "tensor([-1.0000], device='cuda:0')\n"
          ]
        }
      ]
    },
    {
      "cell_type": "code",
      "source": [],
      "metadata": {
        "id": "ZLELPCg3eNiC"
      },
      "execution_count": null,
      "outputs": []
    }
  ],
  "metadata": {
    "kernelspec": {
      "display_name": "Python 3",
      "name": "python3"
    },
    "language_info": {
      "codemirror_mode": {
        "name": "ipython",
        "version": 3
      },
      "file_extension": ".py",
      "mimetype": "text/x-python",
      "name": "python",
      "nbconvert_exporter": "python",
      "pygments_lexer": "ipython3",
      "version": "3.9.15"
    },
    "colab": {
      "provenance": [],
      "gpuType": "T4",
      "include_colab_link": true
    },
    "accelerator": "GPU"
  },
  "nbformat": 4,
  "nbformat_minor": 0
}