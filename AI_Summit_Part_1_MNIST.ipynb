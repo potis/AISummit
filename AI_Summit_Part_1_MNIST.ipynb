{
  "nbformat": 4,
  "nbformat_minor": 0,
  "metadata": {
    "colab": {
      "provenance": [],
      "authorship_tag": "ABX9TyNiTynv3DlU0fO9C+MV69e0",
      "include_colab_link": true
    },
    "kernelspec": {
      "name": "python3",
      "display_name": "Python 3"
    },
    "language_info": {
      "name": "python"
    }
  },
  "cells": [
    {
      "cell_type": "markdown",
      "metadata": {
        "id": "view-in-github",
        "colab_type": "text"
      },
      "source": [
        "<a href=\"https://colab.research.google.com/github/potis/AISummit/blob/main/AI_Summit_Part_1_MNIST.ipynb\" target=\"_parent\"><img src=\"https://colab.research.google.com/assets/colab-badge.svg\" alt=\"Open In Colab\"/></a>"
      ]
    },
    {
      "cell_type": "markdown",
      "source": [
        "# Scope\n",
        "\n",
        "Designing an image classification system that generates uncertainty estimates and performs out-of- distribution detection"
      ],
      "metadata": {
        "id": "JL1f1sbm4MLb"
      }
    },
    {
      "cell_type": "markdown",
      "source": [
        "## Install necessary libraries\n"
      ],
      "metadata": {
        "id": "obJxClyn4QEQ"
      }
    },
    {
      "cell_type": "code",
      "execution_count": 7,
      "metadata": {
        "colab": {
          "base_uri": "https://localhost:8080/",
          "height": 1000
        },
        "id": "sKxMUrCO4JaZ",
        "outputId": "3766411d-8729-49f4-a7b9-ca7bbecd3811"
      },
      "outputs": [
        {
          "output_type": "stream",
          "name": "stdout",
          "text": [
            "Looking in indexes: https://pypi.org/simple, https://us-python.pkg.dev/colab-wheels/public/simple/\n",
            "Requirement already satisfied: pip in /usr/local/lib/python3.10/dist-packages (23.1.2)\n",
            "Looking in indexes: https://pypi.org/simple, https://us-python.pkg.dev/colab-wheels/public/simple/\n",
            "Requirement already satisfied: medmnist in /usr/local/lib/python3.10/dist-packages (2.2.2)\n",
            "Requirement already satisfied: numpy in /usr/local/lib/python3.10/dist-packages (from medmnist) (1.22.4)\n",
            "Requirement already satisfied: pandas in /usr/local/lib/python3.10/dist-packages (from medmnist) (1.5.3)\n",
            "Requirement already satisfied: scikit-learn in /usr/local/lib/python3.10/dist-packages (from medmnist) (1.2.2)\n",
            "Requirement already satisfied: scikit-image in /usr/local/lib/python3.10/dist-packages (from medmnist) (0.19.3)\n",
            "Requirement already satisfied: tqdm in /usr/local/lib/python3.10/dist-packages (from medmnist) (4.65.0)\n",
            "Requirement already satisfied: Pillow in /usr/local/lib/python3.10/dist-packages (from medmnist) (8.4.0)\n",
            "Requirement already satisfied: fire in /usr/local/lib/python3.10/dist-packages (from medmnist) (0.5.0)\n",
            "Requirement already satisfied: torch in /usr/local/lib/python3.10/dist-packages (from medmnist) (2.0.1+cu118)\n",
            "Requirement already satisfied: torchvision in /usr/local/lib/python3.10/dist-packages (from medmnist) (0.15.2+cu118)\n",
            "Requirement already satisfied: six in /usr/local/lib/python3.10/dist-packages (from fire->medmnist) (1.16.0)\n",
            "Requirement already satisfied: termcolor in /usr/local/lib/python3.10/dist-packages (from fire->medmnist) (2.3.0)\n",
            "Requirement already satisfied: python-dateutil>=2.8.1 in /usr/local/lib/python3.10/dist-packages (from pandas->medmnist) (2.8.2)\n",
            "Requirement already satisfied: pytz>=2020.1 in /usr/local/lib/python3.10/dist-packages (from pandas->medmnist) (2022.7.1)\n",
            "Requirement already satisfied: scipy>=1.4.1 in /usr/local/lib/python3.10/dist-packages (from scikit-image->medmnist) (1.10.1)\n",
            "Requirement already satisfied: networkx>=2.2 in /usr/local/lib/python3.10/dist-packages (from scikit-image->medmnist) (3.1)\n",
            "Requirement already satisfied: imageio>=2.4.1 in /usr/local/lib/python3.10/dist-packages (from scikit-image->medmnist) (2.25.1)\n",
            "Requirement already satisfied: tifffile>=2019.7.26 in /usr/local/lib/python3.10/dist-packages (from scikit-image->medmnist) (2023.4.12)\n",
            "Requirement already satisfied: PyWavelets>=1.1.1 in /usr/local/lib/python3.10/dist-packages (from scikit-image->medmnist) (1.4.1)\n",
            "Requirement already satisfied: packaging>=20.0 in /usr/local/lib/python3.10/dist-packages (from scikit-image->medmnist) (23.1)\n",
            "Requirement already satisfied: joblib>=1.1.1 in /usr/local/lib/python3.10/dist-packages (from scikit-learn->medmnist) (1.2.0)\n",
            "Requirement already satisfied: threadpoolctl>=2.0.0 in /usr/local/lib/python3.10/dist-packages (from scikit-learn->medmnist) (3.1.0)\n",
            "Requirement already satisfied: filelock in /usr/local/lib/python3.10/dist-packages (from torch->medmnist) (3.12.0)\n",
            "Requirement already satisfied: typing-extensions in /usr/local/lib/python3.10/dist-packages (from torch->medmnist) (4.5.0)\n",
            "Requirement already satisfied: sympy in /usr/local/lib/python3.10/dist-packages (from torch->medmnist) (1.11.1)\n",
            "Requirement already satisfied: jinja2 in /usr/local/lib/python3.10/dist-packages (from torch->medmnist) (3.1.2)\n",
            "Requirement already satisfied: triton==2.0.0 in /usr/local/lib/python3.10/dist-packages (from torch->medmnist) (2.0.0)\n",
            "Requirement already satisfied: cmake in /usr/local/lib/python3.10/dist-packages (from triton==2.0.0->torch->medmnist) (3.25.2)\n",
            "Requirement already satisfied: lit in /usr/local/lib/python3.10/dist-packages (from triton==2.0.0->torch->medmnist) (16.0.5)\n",
            "Requirement already satisfied: requests in /usr/local/lib/python3.10/dist-packages (from torchvision->medmnist) (2.27.1)\n",
            "Requirement already satisfied: MarkupSafe>=2.0 in /usr/local/lib/python3.10/dist-packages (from jinja2->torch->medmnist) (2.1.2)\n",
            "Requirement already satisfied: urllib3<1.27,>=1.21.1 in /usr/local/lib/python3.10/dist-packages (from requests->torchvision->medmnist) (1.26.15)\n",
            "Requirement already satisfied: certifi>=2017.4.17 in /usr/local/lib/python3.10/dist-packages (from requests->torchvision->medmnist) (2022.12.7)\n",
            "Requirement already satisfied: charset-normalizer~=2.0.0 in /usr/local/lib/python3.10/dist-packages (from requests->torchvision->medmnist) (2.0.12)\n",
            "Requirement already satisfied: idna<4,>=2.5 in /usr/local/lib/python3.10/dist-packages (from requests->torchvision->medmnist) (3.4)\n",
            "Requirement already satisfied: mpmath>=0.19 in /usr/local/lib/python3.10/dist-packages (from sympy->torch->medmnist) (1.3.0)\n",
            "Looking in indexes: https://pypi.org/simple, https://us-python.pkg.dev/colab-wheels/public/simple/\n",
            "Requirement already satisfied: autokeras in /usr/local/lib/python3.10/dist-packages (1.1.0)\n",
            "Requirement already satisfied: packaging in /usr/local/lib/python3.10/dist-packages (from autokeras) (23.1)\n",
            "Requirement already satisfied: tensorflow>=2.8.0 in /usr/local/lib/python3.10/dist-packages (from autokeras) (2.12.0)\n",
            "Requirement already satisfied: keras-tuner>=1.1.0 in /usr/local/lib/python3.10/dist-packages (from autokeras) (1.3.5)\n",
            "Requirement already satisfied: keras-nlp>=0.4.0 in /usr/local/lib/python3.10/dist-packages (from autokeras) (0.5.2)\n",
            "Requirement already satisfied: pandas in /usr/local/lib/python3.10/dist-packages (from autokeras) (1.5.3)\n",
            "Requirement already satisfied: absl-py in /usr/local/lib/python3.10/dist-packages (from keras-nlp>=0.4.0->autokeras) (1.4.0)\n",
            "Requirement already satisfied: numpy in /usr/local/lib/python3.10/dist-packages (from keras-nlp>=0.4.0->autokeras) (1.22.4)\n",
            "Requirement already satisfied: tensorflow-text in /usr/local/lib/python3.10/dist-packages (from keras-nlp>=0.4.0->autokeras) (2.12.1)\n",
            "Requirement already satisfied: requests in /usr/local/lib/python3.10/dist-packages (from keras-tuner>=1.1.0->autokeras) (2.27.1)\n",
            "Requirement already satisfied: kt-legacy in /usr/local/lib/python3.10/dist-packages (from keras-tuner>=1.1.0->autokeras) (1.0.5)\n",
            "Requirement already satisfied: astunparse>=1.6.0 in /usr/local/lib/python3.10/dist-packages (from tensorflow>=2.8.0->autokeras) (1.6.3)\n",
            "Requirement already satisfied: flatbuffers>=2.0 in /usr/local/lib/python3.10/dist-packages (from tensorflow>=2.8.0->autokeras) (23.3.3)\n",
            "Requirement already satisfied: gast<=0.4.0,>=0.2.1 in /usr/local/lib/python3.10/dist-packages (from tensorflow>=2.8.0->autokeras) (0.2.2)\n",
            "Requirement already satisfied: google-pasta>=0.1.1 in /usr/local/lib/python3.10/dist-packages (from tensorflow>=2.8.0->autokeras) (0.2.0)\n",
            "Requirement already satisfied: grpcio<2.0,>=1.24.3 in /usr/local/lib/python3.10/dist-packages (from tensorflow>=2.8.0->autokeras) (1.54.0)\n",
            "Requirement already satisfied: h5py>=2.9.0 in /usr/local/lib/python3.10/dist-packages (from tensorflow>=2.8.0->autokeras) (3.8.0)\n",
            "Requirement already satisfied: jax>=0.3.15 in /usr/local/lib/python3.10/dist-packages (from tensorflow>=2.8.0->autokeras) (0.4.10)\n",
            "Requirement already satisfied: keras<2.13,>=2.12.0 in /usr/local/lib/python3.10/dist-packages (from tensorflow>=2.8.0->autokeras) (2.12.0)\n",
            "Requirement already satisfied: libclang>=13.0.0 in /usr/local/lib/python3.10/dist-packages (from tensorflow>=2.8.0->autokeras) (16.0.0)\n",
            "Requirement already satisfied: opt-einsum>=2.3.2 in /usr/local/lib/python3.10/dist-packages (from tensorflow>=2.8.0->autokeras) (3.3.0)\n",
            "Requirement already satisfied: protobuf!=4.21.0,!=4.21.1,!=4.21.2,!=4.21.3,!=4.21.4,!=4.21.5,<5.0.0dev,>=3.20.3 in /usr/local/lib/python3.10/dist-packages (from tensorflow>=2.8.0->autokeras) (3.20.3)\n",
            "Requirement already satisfied: setuptools in /usr/local/lib/python3.10/dist-packages (from tensorflow>=2.8.0->autokeras) (67.7.2)\n",
            "Requirement already satisfied: six>=1.12.0 in /usr/local/lib/python3.10/dist-packages (from tensorflow>=2.8.0->autokeras) (1.16.0)\n",
            "Requirement already satisfied: tensorboard<2.13,>=2.12 in /usr/local/lib/python3.10/dist-packages (from tensorflow>=2.8.0->autokeras) (2.12.2)\n",
            "Requirement already satisfied: tensorflow-estimator<2.13,>=2.12.0 in /usr/local/lib/python3.10/dist-packages (from tensorflow>=2.8.0->autokeras) (2.12.0)\n",
            "Requirement already satisfied: termcolor>=1.1.0 in /usr/local/lib/python3.10/dist-packages (from tensorflow>=2.8.0->autokeras) (2.3.0)\n",
            "Requirement already satisfied: typing-extensions>=3.6.6 in /usr/local/lib/python3.10/dist-packages (from tensorflow>=2.8.0->autokeras) (4.5.0)\n",
            "Requirement already satisfied: wrapt<1.15,>=1.11.0 in /usr/local/lib/python3.10/dist-packages (from tensorflow>=2.8.0->autokeras) (1.14.1)\n",
            "Requirement already satisfied: tensorflow-io-gcs-filesystem>=0.23.1 in /usr/local/lib/python3.10/dist-packages (from tensorflow>=2.8.0->autokeras) (0.32.0)\n",
            "Requirement already satisfied: python-dateutil>=2.8.1 in /usr/local/lib/python3.10/dist-packages (from pandas->autokeras) (2.8.2)\n",
            "Requirement already satisfied: pytz>=2020.1 in /usr/local/lib/python3.10/dist-packages (from pandas->autokeras) (2022.7.1)\n",
            "Requirement already satisfied: wheel<1.0,>=0.23.0 in /usr/local/lib/python3.10/dist-packages (from astunparse>=1.6.0->tensorflow>=2.8.0->autokeras) (0.40.0)\n",
            "Requirement already satisfied: ml-dtypes>=0.1.0 in /usr/local/lib/python3.10/dist-packages (from jax>=0.3.15->tensorflow>=2.8.0->autokeras) (0.1.0)\n",
            "Requirement already satisfied: scipy>=1.7 in /usr/local/lib/python3.10/dist-packages (from jax>=0.3.15->tensorflow>=2.8.0->autokeras) (1.10.1)\n",
            "Requirement already satisfied: google-auth<3,>=1.6.3 in /usr/local/lib/python3.10/dist-packages (from tensorboard<2.13,>=2.12->tensorflow>=2.8.0->autokeras) (2.17.3)\n",
            "Requirement already satisfied: google-auth-oauthlib<1.1,>=0.5 in /usr/local/lib/python3.10/dist-packages (from tensorboard<2.13,>=2.12->tensorflow>=2.8.0->autokeras) (1.0.0)\n",
            "Requirement already satisfied: markdown>=2.6.8 in /usr/local/lib/python3.10/dist-packages (from tensorboard<2.13,>=2.12->tensorflow>=2.8.0->autokeras) (3.4.3)\n",
            "Requirement already satisfied: tensorboard-data-server<0.8.0,>=0.7.0 in /usr/local/lib/python3.10/dist-packages (from tensorboard<2.13,>=2.12->tensorflow>=2.8.0->autokeras) (0.7.0)\n",
            "Requirement already satisfied: tensorboard-plugin-wit>=1.6.0 in /usr/local/lib/python3.10/dist-packages (from tensorboard<2.13,>=2.12->tensorflow>=2.8.0->autokeras) (1.8.1)\n",
            "Requirement already satisfied: werkzeug>=1.0.1 in /usr/local/lib/python3.10/dist-packages (from tensorboard<2.13,>=2.12->tensorflow>=2.8.0->autokeras) (2.3.0)\n",
            "Requirement already satisfied: urllib3<1.27,>=1.21.1 in /usr/local/lib/python3.10/dist-packages (from requests->keras-tuner>=1.1.0->autokeras) (1.26.15)\n",
            "Requirement already satisfied: certifi>=2017.4.17 in /usr/local/lib/python3.10/dist-packages (from requests->keras-tuner>=1.1.0->autokeras) (2022.12.7)\n",
            "Requirement already satisfied: charset-normalizer~=2.0.0 in /usr/local/lib/python3.10/dist-packages (from requests->keras-tuner>=1.1.0->autokeras) (2.0.12)\n",
            "Requirement already satisfied: idna<4,>=2.5 in /usr/local/lib/python3.10/dist-packages (from requests->keras-tuner>=1.1.0->autokeras) (3.4)\n",
            "Requirement already satisfied: tensorflow-hub>=0.8.0 in /usr/local/lib/python3.10/dist-packages (from tensorflow-text->keras-nlp>=0.4.0->autokeras) (0.13.0)\n",
            "Requirement already satisfied: cachetools<6.0,>=2.0.0 in /usr/local/lib/python3.10/dist-packages (from google-auth<3,>=1.6.3->tensorboard<2.13,>=2.12->tensorflow>=2.8.0->autokeras) (5.3.0)\n",
            "Requirement already satisfied: pyasn1-modules>=0.2.1 in /usr/local/lib/python3.10/dist-packages (from google-auth<3,>=1.6.3->tensorboard<2.13,>=2.12->tensorflow>=2.8.0->autokeras) (0.3.0)\n",
            "Requirement already satisfied: rsa<5,>=3.1.4 in /usr/local/lib/python3.10/dist-packages (from google-auth<3,>=1.6.3->tensorboard<2.13,>=2.12->tensorflow>=2.8.0->autokeras) (4.9)\n",
            "Requirement already satisfied: requests-oauthlib>=0.7.0 in /usr/local/lib/python3.10/dist-packages (from google-auth-oauthlib<1.1,>=0.5->tensorboard<2.13,>=2.12->tensorflow>=2.8.0->autokeras) (1.3.1)\n",
            "Requirement already satisfied: MarkupSafe>=2.1.1 in /usr/local/lib/python3.10/dist-packages (from werkzeug>=1.0.1->tensorboard<2.13,>=2.12->tensorflow>=2.8.0->autokeras) (2.1.2)\n",
            "Requirement already satisfied: pyasn1<0.6.0,>=0.4.6 in /usr/local/lib/python3.10/dist-packages (from pyasn1-modules>=0.2.1->google-auth<3,>=1.6.3->tensorboard<2.13,>=2.12->tensorflow>=2.8.0->autokeras) (0.5.0)\n",
            "Requirement already satisfied: oauthlib>=3.0.0 in /usr/local/lib/python3.10/dist-packages (from requests-oauthlib>=0.7.0->google-auth-oauthlib<1.1,>=0.5->tensorboard<2.13,>=2.12->tensorflow>=2.8.0->autokeras) (3.2.2)\n",
            "Looking in indexes: https://pypi.org/simple, https://us-python.pkg.dev/colab-wheels/public/simple/\n",
            "Requirement already satisfied: numpy in /usr/local/lib/python3.10/dist-packages (1.22.4)\n",
            "Looking in indexes: https://pypi.org/simple, https://us-python.pkg.dev/colab-wheels/public/simple/\n",
            "Requirement already satisfied: scikeras in /usr/local/lib/python3.10/dist-packages (0.11.0)\n",
            "Requirement already satisfied: packaging>=0.21 in /usr/local/lib/python3.10/dist-packages (from scikeras) (23.1)\n",
            "Requirement already satisfied: scikit-learn>=1.0.0 in /usr/local/lib/python3.10/dist-packages (from scikeras) (1.2.2)\n",
            "Requirement already satisfied: numpy>=1.17.3 in /usr/local/lib/python3.10/dist-packages (from scikit-learn>=1.0.0->scikeras) (1.22.4)\n",
            "Requirement already satisfied: scipy>=1.3.2 in /usr/local/lib/python3.10/dist-packages (from scikit-learn>=1.0.0->scikeras) (1.10.1)\n",
            "Requirement already satisfied: joblib>=1.1.1 in /usr/local/lib/python3.10/dist-packages (from scikit-learn>=1.0.0->scikeras) (1.2.0)\n",
            "Requirement already satisfied: threadpoolctl>=2.0.0 in /usr/local/lib/python3.10/dist-packages (from scikit-learn>=1.0.0->scikeras) (3.1.0)\n",
            "Looking in indexes: https://pypi.org/simple, https://us-python.pkg.dev/colab-wheels/public/simple/\n",
            "Requirement already satisfied: tensorflow_probability in /usr/local/lib/python3.10/dist-packages (0.8.0)\n",
            "Requirement already satisfied: six>=1.10.0 in /usr/local/lib/python3.10/dist-packages (from tensorflow_probability) (1.16.0)\n",
            "Requirement already satisfied: numpy>=1.13.3 in /usr/local/lib/python3.10/dist-packages (from tensorflow_probability) (1.22.4)\n",
            "Requirement already satisfied: decorator in /usr/local/lib/python3.10/dist-packages (from tensorflow_probability) (4.4.2)\n",
            "Requirement already satisfied: cloudpickle==1.1.1 in /usr/local/lib/python3.10/dist-packages (from tensorflow_probability) (1.1.1)\n",
            "Requirement already satisfied: gast<0.3,>=0.2 in /usr/local/lib/python3.10/dist-packages (from tensorflow_probability) (0.2.2)\n",
            "Looking in indexes: https://pypi.org/simple, https://us-python.pkg.dev/colab-wheels/public/simple/\n",
            "Collecting tf_agents\n",
            "  Downloading tf_agents-0.16.0-py3-none-any.whl (1.4 MB)\n",
            "\u001b[2K     \u001b[90m━━━━━━━━━━━━━━━━━━━━━━━━━━━━━━━━━━━━━━━━\u001b[0m \u001b[32m1.4/1.4 MB\u001b[0m \u001b[31m20.9 MB/s\u001b[0m eta \u001b[36m0:00:00\u001b[0m\n",
            "\u001b[?25hRequirement already satisfied: absl-py>=0.6.1 in /usr/local/lib/python3.10/dist-packages (from tf_agents) (1.4.0)\n",
            "Collecting cloudpickle>=1.3 (from tf_agents)\n",
            "  Downloading cloudpickle-2.2.1-py3-none-any.whl (25 kB)\n",
            "Requirement already satisfied: gin-config>=0.4.0 in /usr/local/lib/python3.10/dist-packages (from tf_agents) (0.5.0)\n",
            "Collecting gym<=0.23.0,>=0.17.0 (from tf_agents)\n",
            "  Downloading gym-0.23.0.tar.gz (624 kB)\n",
            "\u001b[2K     \u001b[90m━━━━━━━━━━━━━━━━━━━━━━━━━━━━━━━━━━━━━━\u001b[0m \u001b[32m624.4/624.4 kB\u001b[0m \u001b[31m39.9 MB/s\u001b[0m eta \u001b[36m0:00:00\u001b[0m\n",
            "\u001b[?25h  Installing build dependencies ... \u001b[?25l\u001b[?25hdone\n",
            "  Getting requirements to build wheel ... \u001b[?25l\u001b[?25hdone\n",
            "  Preparing metadata (pyproject.toml) ... \u001b[?25l\u001b[?25hdone\n",
            "Requirement already satisfied: numpy>=1.19.0 in /usr/local/lib/python3.10/dist-packages (from tf_agents) (1.22.4)\n",
            "Requirement already satisfied: pillow in /usr/local/lib/python3.10/dist-packages (from tf_agents) (8.4.0)\n",
            "Requirement already satisfied: six>=1.10.0 in /usr/local/lib/python3.10/dist-packages (from tf_agents) (1.16.0)\n",
            "Requirement already satisfied: protobuf>=3.11.3 in /usr/local/lib/python3.10/dist-packages (from tf_agents) (3.20.3)\n",
            "Requirement already satisfied: wrapt>=1.11.1 in /usr/local/lib/python3.10/dist-packages (from tf_agents) (1.14.1)\n",
            "Requirement already satisfied: typing-extensions>=3.7.4.3 in /usr/local/lib/python3.10/dist-packages (from tf_agents) (4.5.0)\n",
            "Collecting pygame==2.1.3 (from tf_agents)\n",
            "  Downloading pygame-2.1.3-cp310-cp310-manylinux_2_17_x86_64.manylinux2014_x86_64.whl (13.7 MB)\n",
            "\u001b[2K     \u001b[90m━━━━━━━━━━━━━━━━━━━━━━━━━━━━━━━━━━━━━━━━\u001b[0m \u001b[32m13.7/13.7 MB\u001b[0m \u001b[31m52.8 MB/s\u001b[0m eta \u001b[36m0:00:00\u001b[0m\n",
            "\u001b[?25hCollecting tensorflow-probability~=0.19.0 (from tf_agents)\n",
            "  Downloading tensorflow_probability-0.19.0-py2.py3-none-any.whl (6.7 MB)\n",
            "\u001b[2K     \u001b[90m━━━━━━━━━━━━━━━━━━━━━━━━━━━━━━━━━━━━━━━━\u001b[0m \u001b[32m6.7/6.7 MB\u001b[0m \u001b[31m69.7 MB/s\u001b[0m eta \u001b[36m0:00:00\u001b[0m\n",
            "\u001b[?25hRequirement already satisfied: gym-notices>=0.0.4 in /usr/local/lib/python3.10/dist-packages (from gym<=0.23.0,>=0.17.0->tf_agents) (0.0.8)\n",
            "Requirement already satisfied: decorator in /usr/local/lib/python3.10/dist-packages (from tensorflow-probability~=0.19.0->tf_agents) (4.4.2)\n",
            "Collecting gast>=0.3.2 (from tensorflow-probability~=0.19.0->tf_agents)\n",
            "  Downloading gast-0.5.4-py3-none-any.whl (19 kB)\n",
            "Requirement already satisfied: dm-tree in /usr/local/lib/python3.10/dist-packages (from tensorflow-probability~=0.19.0->tf_agents) (0.1.8)\n",
            "Building wheels for collected packages: gym\n",
            "  Building wheel for gym (pyproject.toml) ... \u001b[?25l\u001b[?25hdone\n",
            "  Created wheel for gym: filename=gym-0.23.0-py3-none-any.whl size=697643 sha256=cacaece0d428d5244be375752c3a9d71ddd9221f0d2d1afb69fc26d32d0916fe\n",
            "  Stored in directory: /root/.cache/pip/wheels/3d/6f/b4/3991d4fae11d0ecb0754c11cc1b4e7745012850da4efaaf0b1\n",
            "Successfully built gym\n",
            "Installing collected packages: pygame, gast, cloudpickle, tensorflow-probability, gym, tf_agents\n",
            "  Attempting uninstall: pygame\n",
            "    Found existing installation: pygame 2.3.0\n",
            "    Uninstalling pygame-2.3.0:\n",
            "      Successfully uninstalled pygame-2.3.0\n",
            "  Attempting uninstall: gast\n",
            "    Found existing installation: gast 0.2.2\n",
            "    Uninstalling gast-0.2.2:\n",
            "      Successfully uninstalled gast-0.2.2\n",
            "  Attempting uninstall: cloudpickle\n",
            "    Found existing installation: cloudpickle 1.1.1\n",
            "    Uninstalling cloudpickle-1.1.1:\n",
            "      Successfully uninstalled cloudpickle-1.1.1\n",
            "  Attempting uninstall: tensorflow-probability\n",
            "    Found existing installation: tensorflow-probability 0.8.0\n",
            "    Uninstalling tensorflow-probability-0.8.0:\n",
            "      Successfully uninstalled tensorflow-probability-0.8.0\n",
            "  Attempting uninstall: gym\n",
            "    Found existing installation: gym 0.25.2\n",
            "    Uninstalling gym-0.25.2:\n",
            "      Successfully uninstalled gym-0.25.2\n",
            "\u001b[31mERROR: pip's dependency resolver does not currently take into account all the packages that are installed. This behaviour is the source of the following dependency conflicts.\n",
            "tensorflow 2.12.0 requires gast<=0.4.0,>=0.2.1, but you have gast 0.5.4 which is incompatible.\u001b[0m\u001b[31m\n",
            "\u001b[0mSuccessfully installed cloudpickle-2.2.1 gast-0.5.4 gym-0.23.0 pygame-2.1.3 tensorflow-probability-0.19.0 tf_agents-0.16.0\n"
          ]
        },
        {
          "output_type": "display_data",
          "data": {
            "application/vnd.colab-display-data+json": {
              "pip_warning": {
                "packages": [
                  "cloudpickle",
                  "gast"
                ]
              }
            }
          },
          "metadata": {}
        }
      ],
      "source": [
        "!pip install pip --upgrade\n",
        "!pip install medmnist\n",
        "!pip install autokeras\n",
        "!pip install numpy\n",
        "!pip install scikeras\n",
        "!pip install -U -q --use-deprecated=legacy-resolver tf-models-official tensorflow\n",
        "!pip install tensorflow_probability\n",
        "!pip install --upgrade tf_agents\n"
      ]
    },
    {
      "cell_type": "markdown",
      "source": [
        "## Load the dataset"
      ],
      "metadata": {
        "id": "6AUjrjBa5eVk"
      }
    },
    {
      "cell_type": "code",
      "source": [
        "# Load the data\n",
        "import os\n",
        "import matplotlib.pyplot as plt\n",
        "import tensorflow as tf\n",
        "from tensorflow import keras\n",
        "from tensorflow.keras import layers\n",
        "from tensorflow.keras.models import Sequential\n",
        "import numpy as np\n",
        "import time\n",
        "import medmnist\n",
        "import random\n",
        "from sklearn.calibration import CalibratedClassifierCV\n",
        "from sklearn.metrics import *\n",
        "from sklearn import metrics as sklearn_metrics\n",
        "import seaborn as sns\n",
        "\n",
        "\n",
        "\n",
        "def plot_confusion_matrix(y_true, y_pred):\n",
        "    result = np.zeros(np.shape(y_pred)[0])\n",
        "    result[y_pred[:,0] < 0.5] = 0\n",
        "    result[y_pred[:,0] >= 0.5] = 1\n",
        "    cf_matrix = sklearn_metrics.confusion_matrix(y_true, result)\n",
        "\n",
        "    cfm_labels = ['True Negative', 'False Positive', 'False Negative', 'True Positive']\n",
        "    cfm_values = [\"{0:0.0f}\".format(value) for value in cf_matrix.flatten()]\n",
        "    cfm_percent = [\"{0:.2%}\".format(value) for value in cf_matrix.flatten() / np.sum(cf_matrix)]\n",
        "    labels = [f\"{v1}\\n{v2}\\n{v3}\" for v1, v2, v3 in zip(cfm_labels, cfm_values, cfm_percent)]\n",
        "    labels = np.asarray(labels).reshape(2, 2)\n",
        "\n",
        "    ax = sns.heatmap(cf_matrix, annot=labels, fmt='', cmap='Blues')\n",
        "    ax.set_title('Classifier\\n\\n')\n",
        "    ax.set_xlabel('\\nPredicted Values')\n",
        "    ax.set_ylabel('Actual Values')\n",
        "\n",
        "    # Ticket labels - List must be in alphabetical order\n",
        "    ax.xaxis.set_ticklabels(['False', 'True'])\n",
        "    ax.yaxis.set_ticklabels(['False', 'True'])\n",
        "\n",
        "    # Display the visualization of the Confusion Matrix.\n",
        "    plt.show()\n",
        "\n",
        "\n",
        "\n",
        "\n",
        "def unison_shuffled_copies(a, b):\n",
        "    assert len(a) == len(b)\n",
        "    p = np.random.permutation(len(a))\n",
        "    return a[p], b[p]\n",
        "\n",
        "(train_data, train_labels), (test_data, test_labels) =keras.datasets.mnist.load_data()\n",
        "print(np.shape(train_data))\n",
        "print(np.shape(train_labels))\n",
        "\n",
        "train_filter = np.where((train_labels == 0 ) | (train_labels == 4))\n",
        "test_filter = np.where((test_labels == 0) | (test_labels == 4))\n",
        "ood_filter= np.where((test_labels == 9) )\n",
        "\n",
        "\n",
        "X_train, Y_train = train_data[train_filter], train_labels[train_filter]\n",
        "Y_train[Y_train==4]=1\n",
        "X_test, Y_test = test_data[test_filter], test_labels[test_filter]\n",
        "Y_test[Y_test==4]=1\n",
        "\n",
        "ood_test= test_data[ood_filter]\n",
        "\n",
        "print(np.shape(Y_train))\n",
        "print(np.shape(X_train))\n",
        "print(Y_train.max())"
      ],
      "metadata": {
        "colab": {
          "base_uri": "https://localhost:8080/"
        },
        "id": "5mgEDLGZ4WZN",
        "outputId": "c328d035-8454-487a-b2a1-a71fa2384eb3"
      },
      "execution_count": 17,
      "outputs": [
        {
          "output_type": "stream",
          "name": "stdout",
          "text": [
            "(60000, 28, 28)\n",
            "(60000,)\n",
            "(11765,)\n",
            "(11765, 28, 28)\n",
            "1\n"
          ]
        }
      ]
    },
    {
      "cell_type": "markdown",
      "source": [
        "## Show some samples image"
      ],
      "metadata": {
        "id": "KBLGKZiv54ZP"
      }
    },
    {
      "cell_type": "code",
      "source": [
        "plt.figure()\n",
        "plt.title(str(Y_train[2]))\n",
        "plt.imshow(X_train[2, :,:], cmap='gray')\n",
        "plt.colorbar()\n",
        "plt.grid(False)\n",
        "plt.show()\n",
        "plt.figure()\n",
        "plt.title(str(Y_train[-1]))\n",
        "\n",
        "plt.imshow(X_train[-1, :,:], cmap='gray')\n",
        "plt.colorbar()\n",
        "plt.grid(False)\n",
        "plt.show()\n",
        "plt.figure()\n",
        "plt.imshow(ood_test[-1, :,:], cmap='gray')\n",
        "plt.colorbar()\n",
        "plt.grid(False)\n",
        "plt.show()\n"
      ],
      "metadata": {
        "colab": {
          "base_uri": "https://localhost:8080/",
          "height": 1000
        },
        "id": "hrIS_2MK536Z",
        "outputId": "10de2b48-ebe1-439b-8ad0-339697332905"
      },
      "execution_count": 3,
      "outputs": [
        {
          "output_type": "display_data",
          "data": {
            "text/plain": [
              "<Figure size 640x480 with 2 Axes>"
            ],
            "image/png": "[encoded data removed]"
          },
          "metadata": {}
        },
        {
          "output_type": "display_data",
          "data": {
            "text/plain": [
              "<Figure size 640x480 with 2 Axes>"
            ],
            "image/png": "[encoded data removed]"
          },
          "metadata": {}
        },
        {
          "output_type": "display_data",
          "data": {
            "text/plain": [
              "<Figure size 640x480 with 2 Axes>"
            ],
            "image/png": "[encoded data removed]"
          },
          "metadata": {}
        }
      ]
    },
    {
      "cell_type": "markdown",
      "source": [
        "## Create model"
      ],
      "metadata": {
        "id": "vfkVVkf95igu"
      }
    },
    {
      "cell_type": "code",
      "source": [],
      "metadata": {
        "id": "rAq9xcS48mRE"
      },
      "execution_count": 3,
      "outputs": []
    },
    {
      "cell_type": "code",
      "source": [
        "batch_size = 32\n",
        "img_height = 28\n",
        "img_width = 28\n",
        "\n",
        "\n",
        "from tensorflow.keras import layers, models\n",
        "from scikeras.wrappers import KerasClassifier\n",
        "\n",
        "class MyModel(models.Model):\n",
        "    def __init__(self):\n",
        "        super(MyModel, self).__init__()\n",
        "        self.model = self.build_model()\n",
        "\n",
        "    def build_model(self):\n",
        "        model = models.Sequential()\n",
        "        model.add(layers.Rescaling(1./255, input_shape=(28, 28, 1)))\n",
        "        model.add(layers.Conv2D(32, 3, padding='same', activation='relu'))\n",
        "        model.add(layers.MaxPooling2D())\n",
        "        model.add(layers.Conv2D(64, 3, padding='same', activation='relu'))\n",
        "        model.add(layers.MaxPooling2D())\n",
        "        model.add(layers.Conv2D(128, 3, padding='same', activation='relu'))\n",
        "        model.add(layers.MaxPooling2D())\n",
        "        model.add(layers.Flatten())\n",
        "        model.add(layers.Dense(16, activation='relu'))\n",
        "        model.add(layers.Dropout(.25))\n",
        "        model.add(layers.Dense(1, activation='sigmoid'))\n",
        "        return model\n",
        "\n",
        "    def call(self, inputs):\n",
        "        return self.model(inputs)\n",
        "\n",
        "model = MyModel()\n",
        "model.build(((None,None,None, 1)))\n",
        "\n",
        "model.summary()\n",
        "\n",
        "\n",
        "\n",
        "\n",
        "model.compile(optimizer=tf.keras.optimizers.Adam(\n",
        "              learning_rate=0.0001),\n",
        "              loss=tf.keras.losses.binary_crossentropy,\n",
        "              metrics=['accuracy'])\n",
        "epochs=5\n",
        "\n",
        "model.fit(\n",
        "    X_train,\n",
        "    Y_train,\n",
        "    validation_split=0.3,\n",
        "    epochs=epochs,\n",
        ")\n",
        "\n"
      ],
      "metadata": {
        "colab": {
          "base_uri": "https://localhost:8080/",
          "height": 907
        },
        "id": "oPMAq-yh4y1o",
        "outputId": "8d936c6d-3e4b-4736-fa9a-a8553d2237a4"
      },
      "execution_count": 4,
      "outputs": [
        {
          "output_type": "stream",
          "name": "stdout",
          "text": [
            "Model: \"my_model\"\n",
            "_________________________________________________________________\n",
            " Layer (type)                Output Shape              Param #   \n",
            "=================================================================\n",
            " sequential (Sequential)     (None, 1)                 111137    \n",
            "                                                                 \n",
            "=================================================================\n",
            "Total params: 111,137\n",
            "Trainable params: 111,137\n",
            "Non-trainable params: 0\n",
            "_________________________________________________________________\n",
            "Epoch 1/5\n"
          ]
        },
        {
          "output_type": "stream",
          "name": "stderr",
          "text": [
            "WARNING:tensorflow:AutoGraph could not transform <function Model.make_train_function.<locals>.train_function at 0x7f3a4e935750> and will run it as-is.\n",
            "Please report this to the TensorFlow team. When filing the bug, set the verbosity to 10 (on Linux, `export AUTOGRAPH_VERBOSITY=10`) and attach the full output.\n",
            "Cause: module 'gast' has no attribute 'Constant'\n",
            "To silence this warning, decorate the function with @tf.autograph.experimental.do_not_convert\n"
          ]
        },
        {
          "output_type": "stream",
          "name": "stdout",
          "text": [
            "WARNING: AutoGraph could not transform <function Model.make_train_function.<locals>.train_function at 0x7f3a4e935750> and will run it as-is.\n",
            "Please report this to the TensorFlow team. When filing the bug, set the verbosity to 10 (on Linux, `export AUTOGRAPH_VERBOSITY=10`) and attach the full output.\n",
            "Cause: module 'gast' has no attribute 'Constant'\n",
            "To silence this warning, decorate the function with @tf.autograph.experimental.do_not_convert\n"
          ]
        },
        {
          "output_type": "stream",
          "name": "stderr",
          "text": [
            "WARNING:tensorflow:AutoGraph could not transform <bound method MyModel.call of <__main__.MyModel object at 0x7f3a51982830>> and will run it as-is.\n",
            "Please report this to the TensorFlow team. When filing the bug, set the verbosity to 10 (on Linux, `export AUTOGRAPH_VERBOSITY=10`) and attach the full output.\n",
            "Cause: module 'gast' has no attribute 'Constant'\n",
            "To silence this warning, decorate the function with @tf.autograph.experimental.do_not_convert\n"
          ]
        },
        {
          "output_type": "stream",
          "name": "stdout",
          "text": [
            "WARNING: AutoGraph could not transform <bound method MyModel.call of <__main__.MyModel object at 0x7f3a51982830>> and will run it as-is.\n",
            "Please report this to the TensorFlow team. When filing the bug, set the verbosity to 10 (on Linux, `export AUTOGRAPH_VERBOSITY=10`) and attach the full output.\n",
            "Cause: module 'gast' has no attribute 'Constant'\n",
            "To silence this warning, decorate the function with @tf.autograph.experimental.do_not_convert\n",
            "199/258 [======================>.......] - ETA: 12s - loss: 0.2783 - accuracy: 0.9400"
          ]
        },
        {
          "output_type": "error",
          "ename": "KeyboardInterrupt",
          "evalue": "ignored",
          "traceback": [
            "\u001b[0;31m---------------------------------------------------------------------------\u001b[0m",
            "\u001b[0;31mKeyboardInterrupt\u001b[0m                         Traceback (most recent call last)",
            "\u001b[0;32m<ipython-input-4-dac7931072cd>\u001b[0m in \u001b[0;36m<cell line: 46>\u001b[0;34m()\u001b[0m\n\u001b[1;32m     44\u001b[0m \u001b[0mepochs\u001b[0m\u001b[0;34m=\u001b[0m\u001b[0;36m5\u001b[0m\u001b[0;34m\u001b[0m\u001b[0;34m\u001b[0m\u001b[0m\n\u001b[1;32m     45\u001b[0m \u001b[0;34m\u001b[0m\u001b[0m\n\u001b[0;32m---> 46\u001b[0;31m model.fit(\n\u001b[0m\u001b[1;32m     47\u001b[0m     \u001b[0mX_train\u001b[0m\u001b[0;34m,\u001b[0m\u001b[0;34m\u001b[0m\u001b[0;34m\u001b[0m\u001b[0m\n\u001b[1;32m     48\u001b[0m     \u001b[0mY_train\u001b[0m\u001b[0;34m,\u001b[0m\u001b[0;34m\u001b[0m\u001b[0;34m\u001b[0m\u001b[0m\n",
            "\u001b[0;32m/usr/local/lib/python3.10/dist-packages/keras/utils/traceback_utils.py\u001b[0m in \u001b[0;36merror_handler\u001b[0;34m(*args, **kwargs)\u001b[0m\n\u001b[1;32m     63\u001b[0m         \u001b[0mfiltered_tb\u001b[0m \u001b[0;34m=\u001b[0m \u001b[0;32mNone\u001b[0m\u001b[0;34m\u001b[0m\u001b[0;34m\u001b[0m\u001b[0m\n\u001b[1;32m     64\u001b[0m         \u001b[0;32mtry\u001b[0m\u001b[0;34m:\u001b[0m\u001b[0;34m\u001b[0m\u001b[0;34m\u001b[0m\u001b[0m\n\u001b[0;32m---> 65\u001b[0;31m             \u001b[0;32mreturn\u001b[0m \u001b[0mfn\u001b[0m\u001b[0;34m(\u001b[0m\u001b[0;34m*\u001b[0m\u001b[0margs\u001b[0m\u001b[0;34m,\u001b[0m \u001b[0;34m**\u001b[0m\u001b[0mkwargs\u001b[0m\u001b[0;34m)\u001b[0m\u001b[0;34m\u001b[0m\u001b[0;34m\u001b[0m\u001b[0m\n\u001b[0m\u001b[1;32m     66\u001b[0m         \u001b[0;32mexcept\u001b[0m \u001b[0mException\u001b[0m \u001b[0;32mas\u001b[0m \u001b[0me\u001b[0m\u001b[0;34m:\u001b[0m\u001b[0;34m\u001b[0m\u001b[0;34m\u001b[0m\u001b[0m\n\u001b[1;32m     67\u001b[0m             \u001b[0mfiltered_tb\u001b[0m \u001b[0;34m=\u001b[0m \u001b[0m_process_traceback_frames\u001b[0m\u001b[0;34m(\u001b[0m\u001b[0me\u001b[0m\u001b[0;34m.\u001b[0m\u001b[0m__traceback__\u001b[0m\u001b[0;34m)\u001b[0m\u001b[0;34m\u001b[0m\u001b[0;34m\u001b[0m\u001b[0m\n",
            "\u001b[0;32m/usr/local/lib/python3.10/dist-packages/keras/engine/training.py\u001b[0m in \u001b[0;36mfit\u001b[0;34m(self, x, y, batch_size, epochs, verbose, callbacks, validation_split, validation_data, shuffle, class_weight, sample_weight, initial_epoch, steps_per_epoch, validation_steps, validation_batch_size, validation_freq, max_queue_size, workers, use_multiprocessing)\u001b[0m\n\u001b[1;32m   1683\u001b[0m                         ):\n\u001b[1;32m   1684\u001b[0m                             \u001b[0mcallbacks\u001b[0m\u001b[0;34m.\u001b[0m\u001b[0mon_train_batch_begin\u001b[0m\u001b[0;34m(\u001b[0m\u001b[0mstep\u001b[0m\u001b[0;34m)\u001b[0m\u001b[0;34m\u001b[0m\u001b[0;34m\u001b[0m\u001b[0m\n\u001b[0;32m-> 1685\u001b[0;31m                             \u001b[0mtmp_logs\u001b[0m \u001b[0;34m=\u001b[0m \u001b[0mself\u001b[0m\u001b[0;34m.\u001b[0m\u001b[0mtrain_function\u001b[0m\u001b[0;34m(\u001b[0m\u001b[0miterator\u001b[0m\u001b[0;34m)\u001b[0m\u001b[0;34m\u001b[0m\u001b[0;34m\u001b[0m\u001b[0m\n\u001b[0m\u001b[1;32m   1686\u001b[0m                             \u001b[0;32mif\u001b[0m \u001b[0mdata_handler\u001b[0m\u001b[0;34m.\u001b[0m\u001b[0mshould_sync\u001b[0m\u001b[0;34m:\u001b[0m\u001b[0;34m\u001b[0m\u001b[0;34m\u001b[0m\u001b[0m\n\u001b[1;32m   1687\u001b[0m                                 \u001b[0mcontext\u001b[0m\u001b[0;34m.\u001b[0m\u001b[0masync_wait\u001b[0m\u001b[0;34m(\u001b[0m\u001b[0;34m)\u001b[0m\u001b[0;34m\u001b[0m\u001b[0;34m\u001b[0m\u001b[0m\n",
            "\u001b[0;32m/usr/local/lib/python3.10/dist-packages/tensorflow/python/util/traceback_utils.py\u001b[0m in \u001b[0;36merror_handler\u001b[0;34m(*args, **kwargs)\u001b[0m\n\u001b[1;32m    148\u001b[0m     \u001b[0mfiltered_tb\u001b[0m \u001b[0;34m=\u001b[0m \u001b[0;32mNone\u001b[0m\u001b[0;34m\u001b[0m\u001b[0;34m\u001b[0m\u001b[0m\n\u001b[1;32m    149\u001b[0m     \u001b[0;32mtry\u001b[0m\u001b[0;34m:\u001b[0m\u001b[0;34m\u001b[0m\u001b[0;34m\u001b[0m\u001b[0m\n\u001b[0;32m--> 150\u001b[0;31m       \u001b[0;32mreturn\u001b[0m \u001b[0mfn\u001b[0m\u001b[0;34m(\u001b[0m\u001b[0;34m*\u001b[0m\u001b[0margs\u001b[0m\u001b[0;34m,\u001b[0m \u001b[0;34m**\u001b[0m\u001b[0mkwargs\u001b[0m\u001b[0;34m)\u001b[0m\u001b[0;34m\u001b[0m\u001b[0;34m\u001b[0m\u001b[0m\n\u001b[0m\u001b[1;32m    151\u001b[0m     \u001b[0;32mexcept\u001b[0m \u001b[0mException\u001b[0m \u001b[0;32mas\u001b[0m \u001b[0me\u001b[0m\u001b[0;34m:\u001b[0m\u001b[0;34m\u001b[0m\u001b[0;34m\u001b[0m\u001b[0m\n\u001b[1;32m    152\u001b[0m       \u001b[0mfiltered_tb\u001b[0m \u001b[0;34m=\u001b[0m \u001b[0m_process_traceback_frames\u001b[0m\u001b[0;34m(\u001b[0m\u001b[0me\u001b[0m\u001b[0;34m.\u001b[0m\u001b[0m__traceback__\u001b[0m\u001b[0;34m)\u001b[0m\u001b[0;34m\u001b[0m\u001b[0;34m\u001b[0m\u001b[0m\n",
            "\u001b[0;32m/usr/local/lib/python3.10/dist-packages/tensorflow/python/eager/polymorphic_function/polymorphic_function.py\u001b[0m in \u001b[0;36m__call__\u001b[0;34m(self, *args, **kwds)\u001b[0m\n\u001b[1;32m    892\u001b[0m \u001b[0;34m\u001b[0m\u001b[0m\n\u001b[1;32m    893\u001b[0m       \u001b[0;32mwith\u001b[0m \u001b[0mOptionalXlaContext\u001b[0m\u001b[0;34m(\u001b[0m\u001b[0mself\u001b[0m\u001b[0;34m.\u001b[0m\u001b[0m_jit_compile\u001b[0m\u001b[0;34m)\u001b[0m\u001b[0;34m:\u001b[0m\u001b[0;34m\u001b[0m\u001b[0;34m\u001b[0m\u001b[0m\n\u001b[0;32m--> 894\u001b[0;31m         \u001b[0mresult\u001b[0m \u001b[0;34m=\u001b[0m \u001b[0mself\u001b[0m\u001b[0;34m.\u001b[0m\u001b[0m_call\u001b[0m\u001b[0;34m(\u001b[0m\u001b[0;34m*\u001b[0m\u001b[0margs\u001b[0m\u001b[0;34m,\u001b[0m \u001b[0;34m**\u001b[0m\u001b[0mkwds\u001b[0m\u001b[0;34m)\u001b[0m\u001b[0;34m\u001b[0m\u001b[0;34m\u001b[0m\u001b[0m\n\u001b[0m\u001b[1;32m    895\u001b[0m \u001b[0;34m\u001b[0m\u001b[0m\n\u001b[1;32m    896\u001b[0m       \u001b[0mnew_tracing_count\u001b[0m \u001b[0;34m=\u001b[0m \u001b[0mself\u001b[0m\u001b[0;34m.\u001b[0m\u001b[0mexperimental_get_tracing_count\u001b[0m\u001b[0;34m(\u001b[0m\u001b[0;34m)\u001b[0m\u001b[0;34m\u001b[0m\u001b[0;34m\u001b[0m\u001b[0m\n",
            "\u001b[0;32m/usr/local/lib/python3.10/dist-packages/tensorflow/python/eager/polymorphic_function/polymorphic_function.py\u001b[0m in \u001b[0;36m_call\u001b[0;34m(self, *args, **kwds)\u001b[0m\n\u001b[1;32m    924\u001b[0m       \u001b[0;31m# In this case we have created variables on the first call, so we run the\u001b[0m\u001b[0;34m\u001b[0m\u001b[0;34m\u001b[0m\u001b[0m\n\u001b[1;32m    925\u001b[0m       \u001b[0;31m# defunned version which is guaranteed to never create variables.\u001b[0m\u001b[0;34m\u001b[0m\u001b[0;34m\u001b[0m\u001b[0m\n\u001b[0;32m--> 926\u001b[0;31m       \u001b[0;32mreturn\u001b[0m \u001b[0mself\u001b[0m\u001b[0;34m.\u001b[0m\u001b[0m_no_variable_creation_fn\u001b[0m\u001b[0;34m(\u001b[0m\u001b[0;34m*\u001b[0m\u001b[0margs\u001b[0m\u001b[0;34m,\u001b[0m \u001b[0;34m**\u001b[0m\u001b[0mkwds\u001b[0m\u001b[0;34m)\u001b[0m  \u001b[0;31m# pylint: disable=not-callable\u001b[0m\u001b[0;34m\u001b[0m\u001b[0;34m\u001b[0m\u001b[0m\n\u001b[0m\u001b[1;32m    927\u001b[0m     \u001b[0;32melif\u001b[0m \u001b[0mself\u001b[0m\u001b[0;34m.\u001b[0m\u001b[0m_variable_creation_fn\u001b[0m \u001b[0;32mis\u001b[0m \u001b[0;32mnot\u001b[0m \u001b[0;32mNone\u001b[0m\u001b[0;34m:\u001b[0m\u001b[0;34m\u001b[0m\u001b[0;34m\u001b[0m\u001b[0m\n\u001b[1;32m    928\u001b[0m       \u001b[0;31m# Release the lock early so that multiple threads can perform the call\u001b[0m\u001b[0;34m\u001b[0m\u001b[0;34m\u001b[0m\u001b[0m\n",
            "\u001b[0;32m/usr/local/lib/python3.10/dist-packages/tensorflow/python/eager/polymorphic_function/tracing_compiler.py\u001b[0m in \u001b[0;36m__call__\u001b[0;34m(self, *args, **kwargs)\u001b[0m\n\u001b[1;32m    141\u001b[0m       (concrete_function,\n\u001b[1;32m    142\u001b[0m        filtered_flat_args) = self._maybe_define_function(args, kwargs)\n\u001b[0;32m--> 143\u001b[0;31m     return concrete_function._call_flat(\n\u001b[0m\u001b[1;32m    144\u001b[0m         filtered_flat_args, captured_inputs=concrete_function.captured_inputs)  # pylint: disable=protected-access\n\u001b[1;32m    145\u001b[0m \u001b[0;34m\u001b[0m\u001b[0m\n",
            "\u001b[0;32m/usr/local/lib/python3.10/dist-packages/tensorflow/python/eager/polymorphic_function/monomorphic_function.py\u001b[0m in \u001b[0;36m_call_flat\u001b[0;34m(self, args, captured_inputs, cancellation_manager)\u001b[0m\n\u001b[1;32m   1755\u001b[0m         and executing_eagerly):\n\u001b[1;32m   1756\u001b[0m       \u001b[0;31m# No tape is watching; skip to running the function.\u001b[0m\u001b[0;34m\u001b[0m\u001b[0;34m\u001b[0m\u001b[0m\n\u001b[0;32m-> 1757\u001b[0;31m       return self._build_call_outputs(self._inference_function.call(\n\u001b[0m\u001b[1;32m   1758\u001b[0m           ctx, args, cancellation_manager=cancellation_manager))\n\u001b[1;32m   1759\u001b[0m     forward_backward = self._select_forward_and_backward_functions(\n",
            "\u001b[0;32m/usr/local/lib/python3.10/dist-packages/tensorflow/python/eager/polymorphic_function/monomorphic_function.py\u001b[0m in \u001b[0;36mcall\u001b[0;34m(self, ctx, args, cancellation_manager)\u001b[0m\n\u001b[1;32m    379\u001b[0m       \u001b[0;32mwith\u001b[0m \u001b[0m_InterpolateFunctionError\u001b[0m\u001b[0;34m(\u001b[0m\u001b[0mself\u001b[0m\u001b[0;34m)\u001b[0m\u001b[0;34m:\u001b[0m\u001b[0;34m\u001b[0m\u001b[0;34m\u001b[0m\u001b[0m\n\u001b[1;32m    380\u001b[0m         \u001b[0;32mif\u001b[0m \u001b[0mcancellation_manager\u001b[0m \u001b[0;32mis\u001b[0m \u001b[0;32mNone\u001b[0m\u001b[0;34m:\u001b[0m\u001b[0;34m\u001b[0m\u001b[0;34m\u001b[0m\u001b[0m\n\u001b[0;32m--> 381\u001b[0;31m           outputs = execute.execute(\n\u001b[0m\u001b[1;32m    382\u001b[0m               \u001b[0mstr\u001b[0m\u001b[0;34m(\u001b[0m\u001b[0mself\u001b[0m\u001b[0;34m.\u001b[0m\u001b[0msignature\u001b[0m\u001b[0;34m.\u001b[0m\u001b[0mname\u001b[0m\u001b[0;34m)\u001b[0m\u001b[0;34m,\u001b[0m\u001b[0;34m\u001b[0m\u001b[0;34m\u001b[0m\u001b[0m\n\u001b[1;32m    383\u001b[0m               \u001b[0mnum_outputs\u001b[0m\u001b[0;34m=\u001b[0m\u001b[0mself\u001b[0m\u001b[0;34m.\u001b[0m\u001b[0m_num_outputs\u001b[0m\u001b[0;34m,\u001b[0m\u001b[0;34m\u001b[0m\u001b[0;34m\u001b[0m\u001b[0m\n",
            "\u001b[0;32m/usr/local/lib/python3.10/dist-packages/tensorflow/python/eager/execute.py\u001b[0m in \u001b[0;36mquick_execute\u001b[0;34m(op_name, num_outputs, inputs, attrs, ctx, name)\u001b[0m\n\u001b[1;32m     50\u001b[0m   \u001b[0;32mtry\u001b[0m\u001b[0;34m:\u001b[0m\u001b[0;34m\u001b[0m\u001b[0;34m\u001b[0m\u001b[0m\n\u001b[1;32m     51\u001b[0m     \u001b[0mctx\u001b[0m\u001b[0;34m.\u001b[0m\u001b[0mensure_initialized\u001b[0m\u001b[0;34m(\u001b[0m\u001b[0;34m)\u001b[0m\u001b[0;34m\u001b[0m\u001b[0;34m\u001b[0m\u001b[0m\n\u001b[0;32m---> 52\u001b[0;31m     tensors = pywrap_tfe.TFE_Py_Execute(ctx._handle, device_name, op_name,\n\u001b[0m\u001b[1;32m     53\u001b[0m                                         inputs, attrs, num_outputs)\n\u001b[1;32m     54\u001b[0m   \u001b[0;32mexcept\u001b[0m \u001b[0mcore\u001b[0m\u001b[0;34m.\u001b[0m\u001b[0m_NotOkStatusException\u001b[0m \u001b[0;32mas\u001b[0m \u001b[0me\u001b[0m\u001b[0;34m:\u001b[0m\u001b[0;34m\u001b[0m\u001b[0;34m\u001b[0m\u001b[0m\n",
            "\u001b[0;31mKeyboardInterrupt\u001b[0m: "
          ]
        }
      ]
    },
    {
      "cell_type": "markdown",
      "source": [
        "## Evaluate the model"
      ],
      "metadata": {
        "id": "lVsSncOKKU0y"
      }
    },
    {
      "cell_type": "code",
      "source": [
        "predictions=model(X_test)\n",
        "predictions=predictions.numpy()\n",
        "plot_confusion_matrix(Y_test, predictions)\n",
        "\n",
        "plt.title('True class vs Prediction')\n",
        "plt.scatter(Y_test, predictions, c= list(Y_test), alpha=0.9)\n",
        "plt.show()\n",
        "\n",
        "plt.title('True class vs Uncertainty')\n",
        "\n",
        "uncertainty = predictions * (1 - predictions)\n",
        "plt.scatter(Y_test, uncertainty, c= list(Y_test), alpha=0.9)\n",
        "plt.show()\n"
      ],
      "metadata": {
        "id": "jFHZtkBTKUMW"
      },
      "execution_count": null,
      "outputs": []
    },
    {
      "cell_type": "markdown",
      "source": [
        "### Test model in a sample originating from the test set"
      ],
      "metadata": {
        "id": "6hfjbyGQEB4W"
      }
    },
    {
      "cell_type": "code",
      "source": [
        "# resnet_uncertainty = resnet_probs * (1 - resnet_probs)\n",
        "# Get a sample\n",
        "example_case=10\n",
        "sample=X_test[example_case, :,:]\n",
        "plt.figure()\n",
        "plt.imshow(sample, cmap='gray')\n",
        "plt.colorbar()\n",
        "plt.grid(False)\n",
        "plt.show()\n",
        "sample=np.reshape(sample,(1,28,28))\n",
        "predictions_sample=model(sample)\n",
        "predictions_sample=predictions_sample.numpy()\n",
        "print('Indistribution sample')\n",
        "print(predictions_sample)\n",
        "uncertainty = predictions_sample * (1 - predictions_sample)\n",
        "print(uncertainty)\n",
        "# What if we just rotate?\n",
        "print('Rotating image 90 degrees')\n",
        "rot_sample=np.rot90(X_test[example_case, :,:],1).reshape((1,28,28))\n",
        "predictions_sample=model(rot_sample)\n",
        "predictions_sample=predictions_sample.numpy()\n",
        "print(predictions_sample)\n",
        "uncertainty = predictions_sample * (1 - predictions_sample)\n",
        "print(uncertainty)\n",
        "rot_sample=np.flipud(X_test[example_case, :,:]).reshape((1,28,28))\n",
        "predictions_sample=model(rot_sample)\n",
        "predictions_sample=predictions_sample.numpy()\n",
        "print('Fliping image upside down')\n",
        "print(predictions_sample)\n",
        "uncertainty = predictions_sample * (1 - predictions_sample)\n",
        "print(uncertainty)"
      ],
      "metadata": {
        "id": "viMnCH6eENqf"
      },
      "execution_count": null,
      "outputs": []
    },
    {
      "cell_type": "markdown",
      "source": [
        "### Test model in out of distribution data (Deterministic Model)"
      ],
      "metadata": {
        "id": "yozys_UcD7Jo"
      }
    },
    {
      "cell_type": "code",
      "source": [
        "# resnet_uncertainty = resnet_probs * (1 - resnet_probs)\n",
        "# Get a sample\n",
        "sample=ood_test[4, :,:]\n",
        "sample=np.reshape(sample,(1,28,28))\n",
        "predictions=model(sample)\n",
        "predictions=predictions.numpy()\n",
        "print(predictions)\n",
        "uncertainty = predictions * (1 - predictions)\n",
        "print(uncertainty)"
      ],
      "metadata": {
        "id": "sKuiTDzWD_1o"
      },
      "execution_count": null,
      "outputs": []
    },
    {
      "cell_type": "markdown",
      "source": [
        "#### Apply to all the OOD and plot uncertainty"
      ],
      "metadata": {
        "id": "SnFYpiA6I3xM"
      }
    },
    {
      "cell_type": "code",
      "source": [
        "predictions=model(ood_test)\n",
        "predictions=predictions.numpy()\n",
        "uncertainty = predictions * (1 - predictions)\n",
        "plt.title('OOD Uncertainty')\n",
        "uncertainty = predictions * (1 - predictions)\n",
        "plt.plot(uncertainty)\n",
        "plt.axhline(y=uncertainty.mean(),color = 'r', linestyle = '-')\n",
        "plt.show()"
      ],
      "metadata": {
        "id": "IYT-i2J0Iv1V"
      },
      "execution_count": null,
      "outputs": []
    },
    {
      "cell_type": "markdown",
      "source": [
        "#### Apply to all the test cases and plot uncertainty"
      ],
      "metadata": {
        "id": "xoXDj4QuJcKd"
      }
    },
    {
      "cell_type": "code",
      "source": [
        "predictions=model(X_test)\n",
        "predictions=predictions.numpy()\n",
        "uncertainty = predictions * (1 - predictions)\n",
        "plt.title('Test Set Uncertainty')\n",
        "uncertainty = predictions * (1 - predictions)\n",
        "plt.plot(uncertainty)\n",
        "plt.axhline(y=uncertainty.mean(),color = 'r', linestyle = '-')\n",
        "plt.show()"
      ],
      "metadata": {
        "id": "atqEzcOwJZhy"
      },
      "execution_count": null,
      "outputs": []
    },
    {
      "cell_type": "markdown",
      "source": [
        "## Monte Carlo dropout"
      ],
      "metadata": {
        "id": "wyYBlW5X-2kr"
      }
    },
    {
      "cell_type": "code",
      "source": [
        "num_ensemble = 100\n",
        "def mc_dropout_sampling(test_examples):\n",
        "  # Enable dropout during inference.\n",
        "  return model(test_examples, training=True)"
      ],
      "metadata": {
        "id": "D1VpiVoW70dQ"
      },
      "execution_count": null,
      "outputs": []
    },
    {
      "cell_type": "markdown",
      "source": [
        "### In distribution"
      ],
      "metadata": {
        "id": "9zO6oNdWAUi1"
      }
    },
    {
      "cell_type": "code",
      "source": [
        "# Get a sample\n",
        "sample=X_test[0,:,:]\n",
        "print(f\"True Class {Y_test[0]}\")\n",
        "sample=np.reshape(sample,(1,28,28))\n",
        "dropout_samples = [mc_dropout_sampling(sample).numpy() for _ in range(num_ensemble)]\n",
        "print(np.array(dropout_samples).mean())\n",
        "uncertainty = np.array(dropout_samples).mean() * (1 - np.array(dropout_samples).mean())\n",
        "print(uncertainty)\n",
        "# Get a sample\n",
        "sample=X_test[10,:,:]\n",
        "print(f\"True Class {Y_test[10]}\")\n",
        "sample=np.reshape(sample,(1,28,28))\n",
        "dropout_samples = [mc_dropout_sampling(sample).numpy() for _ in range(num_ensemble)]\n",
        "print(np.array(dropout_samples).mean())\n",
        "uncertainty = np.array(dropout_samples).mean() * (1 - np.array(dropout_samples).mean())\n",
        "print(uncertainty)\n"
      ],
      "metadata": {
        "id": "X_SJuDzxAmQR"
      },
      "execution_count": null,
      "outputs": []
    },
    {
      "cell_type": "markdown",
      "source": [
        "### Out of distribution example"
      ],
      "metadata": {
        "id": "6lfIamHSAbNJ"
      }
    },
    {
      "cell_type": "code",
      "source": [
        "plt.figure()\n",
        "plt.imshow(ood_test[10, :,:], cmap='gray')\n",
        "plt.colorbar()\n",
        "plt.grid(False)\n",
        "plt.show()\n",
        "sample_ood=ood_test[4,:,:]\n",
        "sample_ood=np.reshape(sample_ood,(1,28,28))\n",
        "dropout_samples_ood = [mc_dropout_sampling(sample_ood).numpy() for _ in range(num_ensemble)]\n",
        "print(dropout_samples_ood)\n",
        "print(np.array(dropout_samples_ood).mean())\n",
        "uncertainty = np.array(dropout_samples_ood).mean() * (1 - np.array(dropout_samples_ood).mean())\n",
        "print(uncertainty)\n"
      ],
      "metadata": {
        "id": "Gj0PhqQuAgBw"
      },
      "execution_count": null,
      "outputs": []
    },
    {
      "cell_type": "markdown",
      "source": [
        "## Deep Ensemble"
      ],
      "metadata": {
        "id": "1-www8SdCaeP"
      }
    },
    {
      "cell_type": "code",
      "source": [
        "num_ensemble=10\n",
        "# Deep ensemble training\n",
        "deep_ensemble = []\n",
        "import random\n",
        "\n",
        "\n",
        "for ivar in range(num_ensemble):\n",
        "  print(f'{ivar}')\n",
        "  tf.keras.utils.set_random_seed(random.randint(100,1000))\n",
        "  temp_model= MyModel()\n",
        "  temp_model.build(((None,None,None, 1)))\n",
        "\n",
        "  temp_model.compile(optimizer='adam',\n",
        "              loss=tf.keras.losses.binary_crossentropy,\n",
        "              metrics=['accuracy'])\n",
        "  temp_model.reset_states()\n",
        "  temp_model.fit(\n",
        "    X_train,\n",
        "    Y_train,\n",
        "    validation_split=0.3,\n",
        "    epochs=epochs)\n",
        "  print(f'------')\n",
        "\n",
        "  deep_ensemble.append(temp_model)\n",
        "\n",
        "  del temp_model"
      ],
      "metadata": {
        "id": "xNcw40pcBg7x"
      },
      "execution_count": null,
      "outputs": []
    },
    {
      "cell_type": "code",
      "source": [
        "\n",
        "\n",
        "# Get a sample\n",
        "sample=X_test[-11,:,:]\n",
        "sample=np.reshape(sample,(1,28,28))\n",
        "ensemble_preds_samples = [model_x(sample).numpy() for model_x in (deep_ensemble)]\n",
        "print(np.array(ensemble_preds_samples).mean())\n",
        "uncertainty = np.array(ensemble_preds_samples).mean() * (1 - np.array(ensemble_preds_samples).mean())\n",
        "print(uncertainty)\n",
        "\n",
        "\n",
        "for i in range(0,10):\n",
        "  sample_ood=ood_test[i,:,:]\n",
        "  plt.figure()\n",
        "  plt.imshow(sample_ood, cmap='gray')\n",
        "  plt.colorbar()\n",
        "  plt.grid(False)\n",
        "  plt.show()\n",
        "  sample_ood=np.reshape(sample_ood,(1,28,28))\n",
        "  ensemble_preds_samples_ood = [model_x(sample_ood).numpy() for model_x in (deep_ensemble)]\n",
        "  print(np.array(ensemble_preds_samples_ood).mean())\n",
        "  uncertainty = np.array(ensemble_preds_samples_ood).mean() * (1 - np.array(ensemble_preds_samples_ood).mean())\n",
        "  print(uncertainty)"
      ],
      "metadata": {
        "id": "7rErGkICDAA4"
      },
      "execution_count": null,
      "outputs": []
    },
    {
      "cell_type": "code",
      "source": [
        "import official.nlp.modeling.layers as nlp_layers\n",
        "epochs=10\n",
        "class simplenet(tf.keras.Model):\n",
        "    \"\"\"Defines a multi-layer residual network.\"\"\"\n",
        "    def __init__(self, num_classes=1, num_layers=1, num_hidden=128,\n",
        "                 dropout_rate=0.1, **classifier_kwargs):\n",
        "        super().__init__()\n",
        "        # Define class meta data.\n",
        "        self.num_hidden = num_hidden\n",
        "        self.num_layers = num_layers\n",
        "        self.dropout_rate = dropout_rate\n",
        "        self.classifier_kwargs = classifier_kwargs\n",
        "\n",
        "        # Define the layers.\n",
        "        self.input_layer = tf.keras.layers.Input((None,None))\n",
        "        self.normalize_layer = tf.keras.layers.Rescaling(1/255.)\n",
        "        self.reshape_layer = tf.keras.layers.Reshape((28, 28, 1))\n",
        "        self.conv1 = tf.keras.layers.Conv2D(16, 3, padding='same', activation='relu')\n",
        "        self.maxpool1 = tf.keras.layers.MaxPool2D(2)\n",
        "        self.conv2 = tf.keras.layers.Conv2D(16, 3, padding='same', activation='relu')\n",
        "        self.maxpool2 = tf.keras.layers.MaxPool2D(2)\n",
        "        self.flatten = tf.keras.layers.Flatten()\n",
        "        self.dense = tf.keras.layers.Dense(128)\n",
        "\n",
        "        self.dense_layers = [self.make_dense_layer() for _ in range(num_layers)]\n",
        "        self.classifier = self.make_output_layer(num_classes)\n",
        "\n",
        "    def call(self, inputs):\n",
        "        # Project the 2D input data to high dimension.\n",
        "        normalized = self.normalize_layer(inputs)\n",
        "        reshape_layer=self.reshape_layer(normalized)\n",
        "        conv1 = self.conv1(reshape_layer)\n",
        "        maxpool1 = self.maxpool1(conv1)\n",
        "        conv2 = self.conv2(maxpool1)\n",
        "        maxpool2 = self.maxpool2(conv2)\n",
        "        flattened = self.flatten(maxpool2)\n",
        "        dense = self.dense(flattened)\n",
        "\n",
        "        # Compute the ResNet hidden representations.\n",
        "        for i in range(self.num_layers):\n",
        "            resid = self.dense_layers[i](dense)\n",
        "            resid = tf.keras.layers.Dropout(self.dropout_rate)(resid)\n",
        "            dense += resid\n",
        "\n",
        "        return self.classifier(dense)\n",
        "\n",
        "    def make_dense_layer(self):\n",
        "        \"\"\"Use the Dense layer as the hidden layer.\"\"\"\n",
        "        return tf.keras.layers.Dense(self.num_hidden, activation=\"relu\")\n",
        "\n",
        "    def make_output_layer(self, num_classes):\n",
        "        \"\"\"Use the Dense layer as the output layer.\"\"\"\n",
        "        return tf.keras.layers.Dense(\n",
        "            num_classes, activation=\"sigmoid\", **self.classifier_kwargs)\n",
        "\n",
        "\n",
        "\n",
        "resnet_model = simplenet()\n",
        "resnet_model.build((None, None))\n",
        "resnet_model.summary()\n",
        "loss = tf.keras.losses.BinaryCrossentropy()\n",
        "metrics = tf.keras.metrics.BinaryAccuracy(),\n",
        "optimizer = tf.keras.optimizers.legacy.Adam(learning_rate=1e-4)\n",
        "\n",
        "train_config = dict(loss=loss, metrics=metrics, optimizer=optimizer)\n",
        "\n",
        "resnet_model.compile(**train_config)\n",
        "resnet_model.fit(\n",
        "    X_train,\n",
        "    Y_train,\n",
        "    validation_split=0.3,\n",
        "    epochs=epochs)\n"
      ],
      "metadata": {
        "id": "hXGdSvnk_w0e"
      },
      "execution_count": null,
      "outputs": []
    },
    {
      "cell_type": "code",
      "source": [
        "test_filter = np.where((Y_test == 0))\n",
        "X_test_0=X_test[test_filter]\n",
        "output = resnet_model(X_test_0)\n",
        "plt.plot(output)\n",
        "uncertainty = output * (1. - output)\n",
        "plt.plot(uncertainty, c='r')\n",
        "plt.title('Test Set')"
      ],
      "metadata": {
        "id": "3GIrp_ViUu4j"
      },
      "execution_count": null,
      "outputs": []
    },
    {
      "cell_type": "code",
      "source": [
        "class simplenetSNGP(simplenet):\n",
        "  def __init__(self, spec_norm_bound=0.9, **kwargs):\n",
        "    self.spec_norm_bound = spec_norm_bound\n",
        "    super().__init__(**kwargs)\n",
        "\n",
        "  def make_dense_layer(self):\n",
        "    \"\"\"Applies spectral normalization to the hidden layer.\"\"\"\n",
        "    dense_layer = super().make_dense_layer()\n",
        "    return nlp_layers.SpectralNormalization(\n",
        "        dense_layer, norm_multiplier=self.spec_norm_bound)\n",
        "\n",
        "  def make_output_layer(self, num_classes):\n",
        "    \"\"\"Uses Gaussian process as the output layer.\"\"\"\n",
        "    return nlp_layers.RandomFeatureGaussianProcess(\n",
        "        num_classes,\n",
        "        gp_cov_momentum=-1,\n",
        "        **self.classifier_kwargs)\n",
        "\n",
        "  def call(self, inputs, training=False, return_covmat=False):\n",
        "    # Gets logits and a covariance matrix from the GP layer.\n",
        "    logits, covmat = super().call(inputs)\n",
        "\n",
        "    # Returns only logits during training.\n",
        "    if not training and return_covmat:\n",
        "      return logits, covmat\n",
        "\n",
        "    return logits\n",
        "# resnet_config = dict(num_classes=1)\n",
        "# sngp_model = simplenetSNGP(**resnet_config)\n",
        "# sngp_model.build((None, None))\n",
        "# sngp_model.summary()\n",
        "\n",
        "\n",
        "\n",
        "\n",
        "class ResetCovarianceCallback(tf.keras.callbacks.Callback):\n",
        "\n",
        "  def on_epoch_begin(self, epoch, logs=None):\n",
        "    \"\"\"Resets covariance matrix at the beginning of the epoch.\"\"\"\n",
        "    if epoch > 0:\n",
        "      self.model.classifier.reset_covariance_matrix()\n",
        "class DeepResNetSNGPWithCovReset(simplenetSNGP):\n",
        "  def fit(self, *args, **kwargs):\n",
        "    \"\"\"Adds ResetCovarianceCallback to model callbacks.\"\"\"\n",
        "    kwargs[\"callbacks\"] = list(kwargs.get(\"callbacks\", []))\n",
        "    kwargs[\"callbacks\"].append(ResetCovarianceCallback())\n",
        "\n",
        "    return super().fit(*args, **kwargs)\n",
        "sngp_model = simplenetSNGP(**resnet_config)\n",
        "loss = tf.keras.losses.BinaryCrossentropy()\n",
        "metrics = tf.keras.metrics.BinaryAccuracy(),\n",
        "optimizer = tf.keras.optimizers.legacy.Adam(learning_rate=1e-4)\n",
        "train_config = dict(loss=loss, metrics=metrics, optimizer=optimizer)\n",
        "sngp_model.compile(**train_config)\n",
        "sngp_model.fit(\n",
        "    X_train,\n",
        "    Y_train,\n",
        "    validation_split=0.3,\n",
        "    epochs=epochs)"
      ],
      "metadata": {
        "id": "w2HtZTOlKqm1"
      },
      "execution_count": null,
      "outputs": []
    },
    {
      "cell_type": "code",
      "source": [
        "def compute_posterior_mean_probability(logits, covmat, lambda_param=np.pi / 8.):\n",
        "  # Computes uncertainty-adjusted logits using the built-in method.\n",
        "  logits_adjusted = nlp_layers.gaussian_process.mean_field_logits(\n",
        "      logits, covmat, mean_field_factor=lambda_param)\n",
        "\n",
        "  return logits_adjusted\n",
        "\n",
        "\n",
        "test_filter = np.where((Y_test == 0))\n",
        "X_test_0=X_test[test_filter]\n",
        "sngp_logits, sngp_covmat = sngp_model(X_test_0, return_covmat=True)\n",
        "sngp_probs = compute_posterior_mean_probability(sngp_logits, sngp_covmat)\n",
        "\n",
        "plt.plot(sngp_probs)\n",
        "uncertainty = sngp_probs * (1. - sngp_probs)\n",
        "\n",
        "plt.plot(uncertainty, c='r')\n",
        "plt.title('Test Set')\n",
        "plt.show()\n",
        "\n",
        "sngp_logits_ood, sngp_covmat_ood = sngp_model(ood_test, return_covmat=True)\n",
        "sngp_probs_ood = compute_posterior_mean_probability(sngp_logits_ood, sngp_covmat_ood)\n",
        "\n",
        "plt.plot(sngp_probs_ood)\n",
        "uncertainty = sngp_probs_ood * (1. - sngp_probs_ood)\n",
        "\n",
        "plt.plot(uncertainty, c='r')\n",
        "plt.title('OOD Set')\n",
        "plt.show()"
      ],
      "metadata": {
        "id": "EaPQml4OLN0X"
      },
      "execution_count": null,
      "outputs": []
    },
    {
      "cell_type": "code",
      "source": [
        "plot_confusion_matrix(Y_test, sngp_probs)"
      ],
      "metadata": {
        "id": "8rQ1trmvZAZZ"
      },
      "execution_count": null,
      "outputs": []
    },
    {
      "cell_type": "markdown",
      "source": [
        "## Bayesian Neural Network -Variational inference (VI) as an approximative Bayes approach"
      ],
      "metadata": {
        "id": "-B-md4PW2JdK"
      }
    },
    {
      "cell_type": "markdown",
      "source": [
        "Now we will train a bayesian neural network via variational inference. We again use a CNN with two convolutional blocks, followed by maxpooling layers. The setting is the same as above.\n",
        "\n",
        "\n",
        "\n",
        "The main idea of the Bayes approach in DL is that with BNNs, each weight is replaced\n",
        "by a distribution. Normally, this is quite a complicated distribution, and this distribution\n",
        "isn’t independent among different weights. The idea behind the VI Bayes\n",
        "method is that the complicated posterior distributions of the weights are approximated\n",
        "by a simple distribution called variational distribution."
      ],
      "metadata": {
        "id": "1wwM3YUW2WGy"
      }
    },
    {
      "cell_type": "code",
      "source": [
        "Y_train=to_categorical(Y_train,2)\n"
      ],
      "metadata": {
        "id": "Qvl8Ie3H_btd"
      },
      "execution_count": null,
      "outputs": []
    },
    {
      "cell_type": "code",
      "source": [],
      "metadata": {
        "id": "qrYLybXF_beV"
      },
      "execution_count": null,
      "outputs": []
    },
    {
      "cell_type": "markdown",
      "source": [],
      "metadata": {
        "id": "bBQWqbO-2MOO"
      }
    },
    {
      "cell_type": "code",
      "source": [
        "import tensorflow_probability as tfp\n",
        "from tensorflow.python.framework.ops import disable_eager_execution\n",
        "from tensorflow.keras.utils import to_categorical\n",
        "\n",
        "disable_eager_execution()\n",
        "kernel_divergence_fn=lambda q, p, _: tfp.distributions.kl_divergence(q, p) / (X_train.shape[0] *1.0)\n",
        "\n",
        "model_vi = Sequential()\n",
        "model_vi.add(layers.Rescaling(1./255, input_shape=(28, 28, 1)))\n",
        "model_vi.add(tfp.layers.Convolution2DFlipout(8,kernel_size=(3,3),padding=\"same\", activation = 'relu', kernel_divergence_fn=kernel_divergence_fn,input_shape=(28,28,1)))\n",
        "model_vi.add(tfp.layers.Convolution2DFlipout(8,kernel_size=(3,3),padding=\"same\", activation = 'relu', kernel_divergence_fn=kernel_divergence_fn))\n",
        "model_vi.add(tf.keras.layers.MaxPooling2D((2,2)))\n",
        "model_vi.add(tfp.layers.Convolution2DFlipout(16,kernel_size=(3,3),padding=\"same\", activation = 'relu', kernel_divergence_fn=kernel_divergence_fn))\n",
        "model_vi.add(tfp.layers.Convolution2DFlipout(16,kernel_size=(3,3),padding=\"same\", activation = 'relu', kernel_divergence_fn=kernel_divergence_fn))\n",
        "model_vi.add(tf.keras.layers.MaxPooling2D((2,2)))\n",
        "model_vi.add(tf.keras.layers.Flatten())\n",
        "model_vi.add(tfp.layers.DenseFlipout(100, activation = 'relu', kernel_divergence_fn=kernel_divergence_fn))\n",
        "model_vi.add(tfp.layers.DenseFlipout(100, activation = 'relu', kernel_divergence_fn=kernel_divergence_fn))\n",
        "model_vi.add(tfp.layers.DenseFlipout(2, activation = 'softmax', kernel_divergence_fn=kernel_divergence_fn))\n",
        "\n",
        "\n",
        "\n",
        "\n",
        "X_train=X_train.reshape((-1,28,28,1))\n",
        "\n",
        "model_vi.compile(tf.keras.optimizers.legacy.Adam(learning_rate=0.01),\n",
        "              loss=tf.keras.losses.categorical_crossentropy,\n",
        "              metrics=['categorical_accuracy'])\n",
        "epochs=50\n",
        "print(np.shape(Y_train))\n",
        "\n",
        "print(np.shape(Y_train))\n",
        "model_vi.fit(\n",
        "    X_train,\n",
        "    Y_train,\n",
        "    validation_split=0.3,\n",
        "    epochs=epochs,\n",
        ")"
      ],
      "metadata": {
        "id": "5HeMls-rS8sC",
        "outputId": "164bd8f9-958a-4f88-c00f-3e5179e7b2b2",
        "colab": {
          "base_uri": "https://localhost:8080/"
        }
      },
      "execution_count": null,
      "outputs": [
        {
          "output_type": "stream",
          "name": "stdout",
          "text": [
            "(11765, 2)\n",
            "(11765, 2)\n",
            "Train on 8235 samples, validate on 3530 samples\n",
            "Epoch 1/50\n",
            "8235/8235 [==============================] - 32s 4ms/sample - loss: 11.7906 - categorical_accuracy: 0.9647 - val_loss: 4.9310 - val_categorical_accuracy: 0.9884\n",
            "Epoch 2/50\n",
            "8235/8235 [==============================] - 30s 4ms/sample - loss: 2.5064 - categorical_accuracy: 0.9874 - val_loss: 1.4351 - val_categorical_accuracy: 0.9864\n",
            "Epoch 3/50\n",
            "8235/8235 [==============================] - 28s 3ms/sample - loss: 1.4522 - categorical_accuracy: 0.9836 - val_loss: 1.1010 - val_categorical_accuracy: 0.9898\n",
            "Epoch 4/50\n",
            "8235/8235 [==============================] - 29s 4ms/sample - loss: 1.1011 - categorical_accuracy: 0.9874 - val_loss: 0.9474 - val_categorical_accuracy: 0.9901\n",
            "Epoch 5/50\n",
            "8235/8235 [==============================] - 29s 3ms/sample - loss: 0.8636 - categorical_accuracy: 0.9923 - val_loss: 0.8155 - val_categorical_accuracy: 0.9929\n",
            "Epoch 6/50\n",
            "8235/8235 [==============================] - 28s 3ms/sample - loss: 0.7391 - categorical_accuracy: 0.9931 - val_loss: 0.6957 - val_categorical_accuracy: 0.9921\n",
            "Epoch 7/50\n",
            "8235/8235 [==============================] - 31s 4ms/sample - loss: 0.6194 - categorical_accuracy: 0.9953 - val_loss: 0.5831 - val_categorical_accuracy: 0.9941\n",
            "Epoch 8/50\n",
            "8235/8235 [==============================] - 28s 3ms/sample - loss: 0.5324 - categorical_accuracy: 0.9953 - val_loss: 0.4965 - val_categorical_accuracy: 0.9941\n",
            "Epoch 9/50\n",
            "8224/8235 [============================>.] - ETA: 0s - loss: 0.4646 - categorical_accuracy: 0.9945"
          ]
        }
      ]
    },
    {
      "cell_type": "code",
      "source": [
        "for i in range(0,5):\n",
        "  print(model_vi.predict(X_test[0:1].reshape(1,28,28,1))[0])\n",
        "\n",
        "\n",
        "for i in range(0,5):\n",
        "  print(model_vi.predict(ood_test[0:1].reshape(1,28,28,1))[0])"
      ],
      "metadata": {
        "id": "QaLrg6rq7f8s",
        "outputId": "bdb5565e-f0a0-495a-8793-07bb529bc6e7",
        "colab": {
          "base_uri": "https://localhost:8080/"
        }
      },
      "execution_count": 21,
      "outputs": [
        {
          "output_type": "stream",
          "name": "stdout",
          "text": [
            "[9.999933e-01 6.700796e-06]\n",
            "[1.000000e+00 4.471118e-08]\n",
            "[1.0000000e+00 1.3908031e-12]\n",
            "[1.0000000e+00 2.3649607e-08]\n",
            "[1.0000000e+00 1.5490935e-11]\n",
            "[9.9277054e-07 9.9999905e-01]\n",
            "[1.9872162e-12 1.0000000e+00]\n",
            "[3.6978651e-09 1.0000000e+00]\n",
            "[8.112460e-05 9.999188e-01]\n",
            "[6.273419e-10 1.000000e+00]\n"
          ]
        }
      ]
    },
    {
      "cell_type": "markdown",
      "source": [],
      "metadata": {
        "id": "t0AwbLlo7foY"
      }
    },
    {
      "cell_type": "markdown",
      "source": [
        "# Whats Next?\n",
        "\n",
        "\n",
        "1. Try the same experiment with different digits!\n",
        "2. What about a medical dataset?\n",
        "  - Create a copy of the notebook\n",
        "  - Use the following code to load the data\n",
        "  ```\n",
        "    import os\n",
        "    import matplotlib.pyplot as plt\n",
        "    import tensorflow as tf\n",
        "    from tensorflow import keras\n",
        "    from tensorflow.keras import layers\n",
        "    from tensorflow.keras.models import Sequential\n",
        "    import numpy as np\n",
        "    import time\n",
        "    import medmnist\n",
        "    import random\n",
        "    from sklearn.calibration import CalibratedClassifierCV\n",
        "    from medmnist import INFO, Evaluator\n",
        "    from medmnist.info import DEFAULT_ROOT\n",
        "    from sklearn.metrics import *\n",
        "    from sklearn import metrics as sklearn_metrics\n",
        "    import seaborn as sns\n",
        "    data_flag_class3 = \"pathmnist\"\n",
        "    data_flag_class2 = \"breastmnist\"\n",
        "    data_flag_class1 = \"pneumoniamnist\"\n",
        "\n",
        "    output_root =\"./ood\"\n",
        "\n",
        "    input_root = DEFAULT_ROOT\n",
        "\n",
        "    def plot_confusion_matrix(y_true, y_pred):\n",
        "        result = np.zeros(np.shape(y_pred)[0])\n",
        "        result[y_pred[:,0] < 0.5] = 0\n",
        "        result[y_pred[:,0] >= 0.5] = 1\n",
        "        cf_matrix = sklearn_metrics.confusion_matrix(y_true, result)\n",
        "\n",
        "        cfm_labels = ['True Negative', 'False Positive', 'False Negative', 'True Positive']\n",
        "        cfm_values = [\"{0:0.0f}\".format(value) for value in cf_matrix.flatten()]\n",
        "        cfm_percent = [\"{0:.2%}\".format(value) for value in cf_matrix.flatten() / np.sum(cf_matrix)]\n",
        "        labels = [f\"{v1}\\n{v2}\\n{v3}\" for v1, v2, v3 in zip(cfm_labels, cfm_values, cfm_percent)]\n",
        "        labels = np.asarray(labels).reshape(2, 2)\n",
        "\n",
        "        ax = sns.heatmap(cf_matrix, annot=labels, fmt='', cmap='Blues')\n",
        "        ax.set_title('Classifier\\n\\n')\n",
        "        ax.set_xlabel('\\nPredicted Values')\n",
        "        ax.set_ylabel('Actual Values')\n",
        "\n",
        "        # Ticket labels - List must be in alphabetical order\n",
        "        ax.xaxis.set_ticklabels(['False', 'True'])\n",
        "        ax.yaxis.set_ticklabels(['False', 'True'])\n",
        "\n",
        "        # Display the visualization of the Confusion Matrix.\n",
        "        plt.show()\n",
        "    def unison_shuffled_copies(a, b):\n",
        "        assert len(a) == len(b)\n",
        "        p = np.random.permutation(len(a))\n",
        "        return a[p], b[p]\n",
        "\n",
        "    info = INFO[data_flag_class1]\n",
        "    task = info['task']\n",
        "    _ = getattr(medmnist, INFO[data_flag_class1]['python_class'])(\n",
        "            split=\"train\", root=input_root, download=True)\n",
        "\n",
        "    output_root = os.path.join(output_root, data_flag_class1, time.strftime(\"%y%m%d_%H%M%S\"))\n",
        "    if not os.path.isdir(output_root):\n",
        "        os.makedirs(output_root)\n",
        "\n",
        "    info = INFO[data_flag_class2]\n",
        "    task = info['task']\n",
        "    _ = getattr(medmnist, INFO[data_flag_class2]['python_class'])(\n",
        "            split=\"train\", root=input_root, download=True)\n",
        "\n",
        "    output_root = os.path.join(output_root, data_flag_class2, time.strftime(\"%y%m%d_%H%M%S\"))\n",
        "\n",
        "    info = INFO[data_flag_class3]\n",
        "    task = info['task']\n",
        "    _ = getattr(medmnist, INFO[data_flag_class3]['python_class'])(\n",
        "            split=\"train\", root=input_root, download=True)\n",
        "\n",
        "    output_root = os.path.join(output_root, data_flag_class3, time.strftime(\"%y%m%d_%H%M%S\"))\n",
        "    if not os.path.isdir(output_root):\n",
        "        os.makedirs(output_root)\n",
        "\n",
        "    npz_file_class1 = np.load(os.path.join(input_root, \"{}.npz\".format(data_flag_class1)))\n",
        "    npz_file_class2 = np.load(os.path.join(input_root, \"{}.npz\".format(data_flag_class2)))\n",
        "    npz_file_class3 = np.load(os.path.join(input_root, \"{}.npz\".format(data_flag_class3)))\n",
        "    ood_test = npz_file_class3['train_images'][:580,...]\n",
        "    ood_test=ood_test[:,:,:,0:1]\n",
        "    print(np.shape(ood_test))\n",
        "    X_train = np.concatenate((npz_file_class1['train_images'][:580,...], npz_file_class2['train_images']), axis=0)\n",
        "    Y_train =np.concatenate((np.zeros(np.shape(npz_file_class1['train_images'][:580,...])[0]), np.ones(np.shape(npz_file_class2['train_images'])[0])), axis=0)\n",
        "    X_train,Y_train= unison_shuffled_copies(X_train, Y_train)\n",
        "    X_test = np.concatenate((npz_file_class1['test_images'][:80,...], npz_file_class2['test_images']), axis=0)\n",
        "    Y_test =np.concatenate((np.zeros(np.shape(npz_file_class1['test_images'][:80,...])[0]), np.ones(np.shape(npz_file_class2['test_images'])[0])), axis=0)\n",
        "  ```\n"
      ],
      "metadata": {
        "id": "vRCGveSmWhtv"
      }
    }
  ]
}